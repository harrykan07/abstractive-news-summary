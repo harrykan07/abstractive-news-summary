{
 "cells": [
  {
   "cell_type": "code",
   "execution_count": 1,
   "metadata": {
    "colab": {
     "base_uri": "https://localhost:8080/",
     "height": 126
    },
    "colab_type": "code",
    "executionInfo": {
     "elapsed": 70470,
     "status": "ok",
     "timestamp": 1582477118956,
     "user": {
      "displayName": "TheMadMi",
      "photoUrl": "https://lh3.googleusercontent.com/a-/AAuE7mC5L-YNwLHwoOIiOeKZU9KNcyd8jjr6XOM3iTwD=s64",
      "userId": "05162946888376425934"
     },
     "user_tz": -330
    },
    "id": "Rw64tRilsJTl",
    "outputId": "1a117b6d-dfbd-4bfc-80af-2be2e3245b75"
   },
   "outputs": [
    {
     "name": "stdout",
     "output_type": "stream",
     "text": [
      "Go to this URL in a browser: https://accounts.google.com/o/oauth2/auth?client_id=947318989803-6bn6qk8qdgf4n4g3pfee6491hc0brc4i.apps.googleusercontent.com&redirect_uri=urn%3aietf%3awg%3aoauth%3a2.0%3aoob&response_type=code&scope=email%20https%3a%2f%2fwww.googleapis.com%2fauth%2fdocs.test%20https%3a%2f%2fwww.googleapis.com%2fauth%2fdrive%20https%3a%2f%2fwww.googleapis.com%2fauth%2fdrive.photos.readonly%20https%3a%2f%2fwww.googleapis.com%2fauth%2fpeopleapi.readonly\n",
      "\n",
      "Enter your authorization code:\n",
      "··········\n",
      "Mounted at /content/drive\n"
     ]
    }
   ],
   "source": [
    "from google.colab import drive\n",
    "drive.mount('/content/drive')"
   ]
  },
  {
   "cell_type": "code",
   "execution_count": 2,
   "metadata": {
    "colab": {
     "base_uri": "https://localhost:8080/",
     "height": 135
    },
    "colab_type": "code",
    "executionInfo": {
     "elapsed": 72356,
     "status": "ok",
     "timestamp": 1582477120924,
     "user": {
      "displayName": "TheMadMi",
      "photoUrl": "https://lh3.googleusercontent.com/a-/AAuE7mC5L-YNwLHwoOIiOeKZU9KNcyd8jjr6XOM3iTwD=s64",
      "userId": "05162946888376425934"
     },
     "user_tz": -330
    },
    "id": "AJR8bl2_rEul",
    "outputId": "df2c4ee1-4ff4-4282-a0f8-bf1eb570bb6a"
   },
   "outputs": [
    {
     "name": "stderr",
     "output_type": "stream",
     "text": [
      "Using TensorFlow backend.\n"
     ]
    },
    {
     "data": {
      "text/html": [
       "<p style=\"color: red;\">\n",
       "The default version of TensorFlow in Colab will soon switch to TensorFlow 2.x.<br>\n",
       "We recommend you <a href=\"https://www.tensorflow.org/guide/migrate\" target=\"_blank\">upgrade</a> now \n",
       "or ensure your notebook will continue to use TensorFlow 1.x via the <code>%tensorflow_version 1.x</code> magic:\n",
       "<a href=\"https://colab.research.google.com/notebooks/tensorflow_version.ipynb\" target=\"_blank\">more info</a>.</p>\n"
      ],
      "text/plain": [
       "<IPython.core.display.HTML object>"
      ]
     },
     "metadata": {
      "tags": []
     },
     "output_type": "display_data"
    },
    {
     "name": "stdout",
     "output_type": "stream",
     "text": [
      "[nltk_data] Downloading package stopwords to /root/nltk_data...\n",
      "[nltk_data]   Unzipping corpora/stopwords.zip.\n"
     ]
    }
   ],
   "source": [
    "import numpy as np\n",
    "import pandas as pd \n",
    "import re\n",
    "from keras.preprocessing.text import Tokenizer \n",
    "from nltk import download\n",
    "download('stopwords')\n",
    "from nltk.corpus import stopwords\n",
    "from tensorflow.keras.layers import Input, LSTM, Embedding, Dense, Concatenate, TimeDistributed\n",
    "from tensorflow.keras.models import Model\n",
    "from tensorflow.keras.callbacks import EarlyStopping\n",
    "import warnings\n",
    "from attention import AttentionLayer\n",
    "pd.set_option(\"display.max_colwidth\", 200)\n",
    "warnings.filterwarnings(\"ignore\")"
   ]
  },
  {
   "cell_type": "code",
   "execution_count": 3,
   "metadata": {
    "colab": {
     "base_uri": "https://localhost:8080/",
     "height": 398
    },
    "colab_type": "code",
    "executionInfo": {
     "elapsed": 75038,
     "status": "ok",
     "timestamp": 1582477123692,
     "user": {
      "displayName": "TheMadMi",
      "photoUrl": "https://lh3.googleusercontent.com/a-/AAuE7mC5L-YNwLHwoOIiOeKZU9KNcyd8jjr6XOM3iTwD=s64",
      "userId": "05162946888376425934"
     },
     "user_tz": -330
    },
    "id": "46G6F2DdrEux",
    "outputId": "732c45b7-dffe-4f6c-ec88-856f12157500"
   },
   "outputs": [
    {
     "name": "stdout",
     "output_type": "stream",
     "text": [
      "(98398, 2)\n"
     ]
    },
    {
     "data": {
      "text/html": [
       "<div>\n",
       "<style scoped>\n",
       "    .dataframe tbody tr th:only-of-type {\n",
       "        vertical-align: middle;\n",
       "    }\n",
       "\n",
       "    .dataframe tbody tr th {\n",
       "        vertical-align: top;\n",
       "    }\n",
       "\n",
       "    .dataframe thead th {\n",
       "        text-align: right;\n",
       "    }\n",
       "</style>\n",
       "<table border=\"1\" class=\"dataframe\">\n",
       "  <thead>\n",
       "    <tr style=\"text-align: right;\">\n",
       "      <th></th>\n",
       "      <th>headlines</th>\n",
       "      <th>text</th>\n",
       "    </tr>\n",
       "  </thead>\n",
       "  <tbody>\n",
       "    <tr>\n",
       "      <th>0</th>\n",
       "      <td>upGrad learner switches to career in ML &amp; Al with 90% salary hike</td>\n",
       "      <td>Saurav Kant, an alumnus of upGrad and IIIT-B's PG Program in Machine learning and Artificial Intelligence, was a Sr Systems Engineer at Infosys with almost 5 years of work experience. The program ...</td>\n",
       "    </tr>\n",
       "    <tr>\n",
       "      <th>1</th>\n",
       "      <td>Delhi techie wins free food from Swiggy for one year on CRED</td>\n",
       "      <td>Kunal Shah's credit card bill payment platform, CRED, gave users a chance to win free food from Swiggy for one year. Pranav Kaushik, a Delhi techie, bagged this reward after spending 2000 CRED coi...</td>\n",
       "    </tr>\n",
       "    <tr>\n",
       "      <th>2</th>\n",
       "      <td>New Zealand end Rohit Sharma-led India's 12-match winning streak</td>\n",
       "      <td>New Zealand defeated India by 8 wickets in the fourth ODI at Hamilton on Thursday to win their first match of the five-match ODI series. India lost an international match under Rohit Sharma's capt...</td>\n",
       "    </tr>\n",
       "    <tr>\n",
       "      <th>3</th>\n",
       "      <td>Aegon life iTerm insurance plan helps customers save tax</td>\n",
       "      <td>With Aegon Life iTerm Insurance plan, customers can enjoy tax benefits on your premiums paid and save up to â¹46,800^ on taxes. The plan provides life cover up to the age of 100 years. Also, cust...</td>\n",
       "    </tr>\n",
       "    <tr>\n",
       "      <th>4</th>\n",
       "      <td>Have known Hirani for yrs, what if MeToo claims are not true: Sonam</td>\n",
       "      <td>Speaking about the sexual harassment allegations against Rajkumar Hirani, Sonam Kapoor said, \"I've known Hirani for many years...What if it's not true, the [#MeToo] movement will get derailed.\" \"I...</td>\n",
       "    </tr>\n",
       "  </tbody>\n",
       "</table>\n",
       "</div>"
      ],
      "text/plain": [
       "                                                             headlines                                                                                                                                                                                                     text\n",
       "0    upGrad learner switches to career in ML & Al with 90% salary hike  Saurav Kant, an alumnus of upGrad and IIIT-B's PG Program in Machine learning and Artificial Intelligence, was a Sr Systems Engineer at Infosys with almost 5 years of work experience. The program ...\n",
       "1         Delhi techie wins free food from Swiggy for one year on CRED  Kunal Shah's credit card bill payment platform, CRED, gave users a chance to win free food from Swiggy for one year. Pranav Kaushik, a Delhi techie, bagged this reward after spending 2000 CRED coi...\n",
       "2     New Zealand end Rohit Sharma-led India's 12-match winning streak  New Zealand defeated India by 8 wickets in the fourth ODI at Hamilton on Thursday to win their first match of the five-match ODI series. India lost an international match under Rohit Sharma's capt...\n",
       "3             Aegon life iTerm insurance plan helps customers save tax  With Aegon Life iTerm Insurance plan, customers can enjoy tax benefits on your premiums paid and save up to â¹46,800^ on taxes. The plan provides life cover up to the age of 100 years. Also, cust...\n",
       "4  Have known Hirani for yrs, what if MeToo claims are not true: Sonam  Speaking about the sexual harassment allegations against Rajkumar Hirani, Sonam Kapoor said, \"I've known Hirani for many years...What if it's not true, the [#MeToo] movement will get derailed.\" \"I..."
      ]
     },
     "execution_count": 3,
     "metadata": {
      "tags": []
     },
     "output_type": "execute_result"
    }
   ],
   "source": [
    "reviews = pd.read_csv(\"drive/My Drive/Application/text_summary/news_summary.csv\")\n",
    "print(reviews.shape)\n",
    "reviews.head()"
   ]
  },
  {
   "cell_type": "code",
   "execution_count": 4,
   "metadata": {
    "colab": {
     "base_uri": "https://localhost:8080/",
     "height": 71
    },
    "colab_type": "code",
    "executionInfo": {
     "elapsed": 74976,
     "status": "ok",
     "timestamp": 1582477123700,
     "user": {
      "displayName": "TheMadMi",
      "photoUrl": "https://lh3.googleusercontent.com/a-/AAuE7mC5L-YNwLHwoOIiOeKZU9KNcyd8jjr6XOM3iTwD=s64",
      "userId": "05162946888376425934"
     },
     "user_tz": -330
    },
    "id": "HiAy3xbmrEvF",
    "outputId": "1c0c5ccf-e78a-4d7b-e96f-90acdf395672"
   },
   "outputs": [
    {
     "data": {
      "text/plain": [
       "headlines    0\n",
       "text         0\n",
       "dtype: int64"
      ]
     },
     "execution_count": 4,
     "metadata": {
      "tags": []
     },
     "output_type": "execute_result"
    }
   ],
   "source": [
    "# Check for any nulls values\n",
    "reviews.isnull().sum()"
   ]
  },
  {
   "cell_type": "code",
   "execution_count": 5,
   "metadata": {
    "colab": {
     "base_uri": "https://localhost:8080/",
     "height": 484
    },
    "colab_type": "code",
    "executionInfo": {
     "elapsed": 74908,
     "status": "ok",
     "timestamp": 1582477123708,
     "user": {
      "displayName": "TheMadMi",
      "photoUrl": "https://lh3.googleusercontent.com/a-/AAuE7mC5L-YNwLHwoOIiOeKZU9KNcyd8jjr6XOM3iTwD=s64",
      "userId": "05162946888376425934"
     },
     "user_tz": -330
    },
    "id": "q_-ZGHXTrEvQ",
    "outputId": "7ec158fd-35dd-4fad-9f2d-5266a80c89b9"
   },
   "outputs": [
    {
     "name": "stdout",
     "output_type": "stream",
     "text": [
      "Review:  1\n",
      "upGrad learner switches to career in ML & Al with 90% salary hike\n",
      "--------------------------------------------------------------------------------\n",
      "Saurav Kant, an alumnus of upGrad and IIIT-B's PG Program in Machine learning and Artificial Intelligence, was a Sr Systems Engineer at Infosys with almost 5 years of work experience. The program and upGrad's 360-degree career support helped him transition to a Data Scientist at Tech Mahindra with 90% salary hike. upGrad's Online Power Learning has powered 3 lakh+ careers.\n",
      "\n",
      "Review:  2\n",
      "Delhi techie wins free food from Swiggy for one year on CRED\n",
      "--------------------------------------------------------------------------------\n",
      "Kunal Shah's credit card bill payment platform, CRED, gave users a chance to win free food from Swiggy for one year. Pranav Kaushik, a Delhi techie, bagged this reward after spending 2000 CRED coins. Users get one CRED coin per rupee of bill paid, which can be used to avail rewards from brands like Ixigo, BookMyShow, UberEats, Cult.Fit and more.\n",
      "\n",
      "Review:  3\n",
      "New Zealand end Rohit Sharma-led India's 12-match winning streak\n",
      "--------------------------------------------------------------------------------\n",
      "New Zealand defeated India by 8 wickets in the fourth ODI at Hamilton on Thursday to win their first match of the five-match ODI series. India lost an international match under Rohit Sharma's captaincy after 12 consecutive victories dating back to March 2018. The match witnessed India getting all out for 92, their seventh lowest total in ODI cricket history.\n",
      "\n",
      "Review:  4\n",
      "Aegon life iTerm insurance plan helps customers save tax\n",
      "--------------------------------------------------------------------------------\n",
      "With Aegon Life iTerm Insurance plan, customers can enjoy tax benefits on your premiums paid and save up to â¹46,800^ on taxes. The plan provides life cover up to the age of 100 years. Also, customers have options to insure against Critical Illnesses, Disability and Accidental Death Benefit Rider with a life cover up to the age of 80 years.\n",
      "\n",
      "Review:  5\n",
      "Have known Hirani for yrs, what if MeToo claims are not true: Sonam\n",
      "--------------------------------------------------------------------------------\n",
      "Speaking about the sexual harassment allegations against Rajkumar Hirani, Sonam Kapoor said, \"I've known Hirani for many years...What if it's not true, the [#MeToo] movement will get derailed.\" \"In the #MeToo movement, I always believe a woman. But in this case, we need to reserve our judgment,\" she added. Hirani has been accused by an assistant who worked in 'Sanju'.\n",
      "\n"
     ]
    }
   ],
   "source": [
    "# let's inspect some reviews\n",
    "for i in range(5):\n",
    "    print(\"Review: \",i+1)\n",
    "    print(reviews.headlines[i])\n",
    "    print('-'*80)\n",
    "    print(reviews.text[i])\n",
    "    print()"
   ]
  },
  {
   "cell_type": "markdown",
   "metadata": {
    "colab_type": "text",
    "id": "NOMNlPFErEva"
   },
   "source": [
    "# Lets cleaned datasets"
   ]
  },
  {
   "cell_type": "code",
   "execution_count": 0,
   "metadata": {
    "colab": {},
    "colab_type": "code",
    "id": "O_nWlhzXrEvc"
   },
   "outputs": [],
   "source": [
    "CURRENCIES = {\n",
    "    \"$\": \"USD\", \"zł\": \"PLN\", \"£\": \"GBP\", \"¥\": \"JPY\", \"฿\": \"THB\", \"₡\": \"CRC\", \"₦\": \"NGN\",\"₩\": \"KRW\",\n",
    "    \"₪\": \"ILS\", \"₫\": \"VND\", \"€\": \"EUR\", \"₱\": \"PHP\", \"₲\": \"PYG\", \"₴\": \"UAH\", \"₹\": \"INR\",}\n",
    "CURRENCY_REGEX = re.compile(\n",
    "    \"({})+\".format(\"|\".join(re.escape(c) for c in CURRENCIES.keys())))\n",
    "\n",
    "EMAIL_REGEX = re.compile(\n",
    "    r\"(?:^|(?<=[^\\w@.)]))([\\w+-](\\.(?!\\.))?)*?[\\w+-]@(?:\\w-?)*?\\w+(\\.([a-z]{2,})){1,3}(?:$|(?=\\b))\",\n",
    "    flags=re.IGNORECASE | re.UNICODE,)\n",
    "\n",
    "# A list of contractions from http://stackoverflow.com/questions/19790188/expanding-english-language-contractions-in-python\n",
    "contractions =          {\"ain't\": \"is not\", \"aren't\": \"are not\",\"can't\": \"cannot\", \"'cause\": \"because\", \"could've\": \"could have\", \"couldn't\": \"could not\",\n",
    "                           \"didn't\": \"did not\",  \"doesn't\": \"does not\", \"don't\": \"do not\", \"hadn't\": \"had not\", \"hasn't\": \"has not\", \"haven't\": \"have not\",\n",
    "                           \"he'd\": \"he would\",\"he'll\": \"he will\", \"he's\": \"he is\", \"how'd\": \"how did\", \"how'd'y\": \"how do you\", \"how'll\": \"how will\", \"how's\": \"how is\",\n",
    "                           \"I'd\": \"I would\", \"I'd've\": \"I would have\", \"I'll\": \"I will\", \"I'll've\": \"I will have\",\"I'm\": \"I am\", \"I've\": \"I have\", \"i'd\": \"i would\",\n",
    "                           \"i'd've\": \"i would have\", \"i'll\": \"i will\",  \"i'll've\": \"i will have\",\"i'm\": \"i am\", \"i've\": \"i have\", \"isn't\": \"is not\", \"it'd\": \"it would\",\n",
    "                           \"it'd've\": \"it would have\", \"it'll\": \"it will\", \"it'll've\": \"it will have\",\"it's\": \"it is\", \"let's\": \"let us\", \"ma'am\": \"madam\",\n",
    "                           \"mayn't\": \"may not\", \"might've\": \"might have\",\"mightn't\": \"might not\",\"mightn't've\": \"might not have\", \"must've\": \"must have\",\n",
    "                           \"mustn't\": \"must not\", \"mustn't've\": \"must not have\", \"needn't\": \"need not\", \"needn't've\": \"need not have\",\"o'clock\": \"of the clock\",\n",
    "                           \"oughtn't\": \"ought not\", \"oughtn't've\": \"ought not have\", \"shan't\": \"shall not\", \"sha'n't\": \"shall not\", \"shan't've\": \"shall not have\",\n",
    "                           \"she'd\": \"she would\", \"she'd've\": \"she would have\", \"she'll\": \"she will\", \"she'll've\": \"she will have\", \"she's\": \"she is\",\n",
    "                           \"should've\": \"should have\", \"shouldn't\": \"should not\", \"shouldn't've\": \"should not have\", \"so've\": \"so have\",\"so's\": \"so as\",\n",
    "                           \"this's\": \"this is\",\"that'd\": \"that would\", \"that'd've\": \"that would have\", \"that's\": \"that is\", \"there'd\": \"there would\",\n",
    "                           \"there'd've\": \"there would have\", \"there's\": \"there is\", \"here's\": \"here is\",\"they'd\": \"they would\", \"they'd've\": \"they would have\",\n",
    "                           \"they'll\": \"they will\", \"they'll've\": \"they will have\", \"they're\": \"they are\", \"they've\": \"they have\", \"to've\": \"to have\",\n",
    "                           \"wasn't\": \"was not\", \"we'd\": \"we would\", \"we'd've\": \"we would have\", \"we'll\": \"we will\", \"we'll've\": \"we will have\", \"we're\": \"we are\",\n",
    "                           \"we've\": \"we have\", \"weren't\": \"were not\", \"what'll\": \"what will\", \"what'll've\": \"what will have\", \"what're\": \"what are\",\n",
    "                           \"what's\": \"what is\", \"what've\": \"what have\", \"when's\": \"when is\", \"when've\": \"when have\", \"where'd\": \"where did\", \"where's\": \"where is\",\n",
    "                           \"where've\": \"where have\", \"who'll\": \"who will\", \"who'll've\": \"who will have\", \"who's\": \"who is\", \"who've\": \"who have\",\n",
    "                           \"why's\": \"why is\", \"why've\": \"why have\", \"will've\": \"will have\", \"won't\": \"will not\", \"won't've\": \"will not have\",\n",
    "                           \"would've\": \"would have\", \"wouldn't\": \"would not\", \"wouldn't've\": \"would not have\", \"y'all\": \"you all\",\n",
    "                           \"y'all'd\": \"you all would\",\"y'all'd've\": \"you all would have\",\"y'all're\": \"you all are\",\"y'all've\": \"you all have\",\n",
    "                           \"you'd\": \"you would\", \"you'd've\": \"you would have\", \"you'll\": \"you will\", \"you'll've\": \"you will have\",\n",
    "                           \"you're\": \"you are\", \"you've\": \"you have\", \"i've\": \"i have\"}"
   ]
  },
  {
   "cell_type": "code",
   "execution_count": 0,
   "metadata": {
    "colab": {},
    "colab_type": "code",
    "id": "EDh48drTrEvj"
   },
   "outputs": [],
   "source": [
    "def clean_text(text, remove_stopwords = True):\n",
    "    \n",
    "    text = text.lower()\n",
    "    if True:\n",
    "        text = text.split()\n",
    "        new_text = []\n",
    "        for word in text:\n",
    "            if word in contractions:\n",
    "                new_text.append(contractions[word])\n",
    "            else:\n",
    "                new_text.append(word)\n",
    "        text = \" \".join(new_text)\n",
    "        \n",
    "    text = re.sub(r'https?:\\/\\/.*[\\r\\n]*', '', text, flags=re.MULTILINE)\n",
    "    text = EMAIL_REGEX.sub(' ',text)\n",
    "    text = CURRENCY_REGEX.sub(' ',text)\n",
    "    text = ' '.join([contractions[t] if t in contractions else t for t in text.split(\" \")])    \n",
    "    text = re.sub(r'[_\"\\-;%()|+&=*%.,!?:#$@\\[\\]/]', ' ', text)\n",
    "    text = re.sub(r\"'s\\b\",\"\", text)\n",
    "    text = re.sub(r'&amp;', '', text) \n",
    "    \n",
    "    if remove_stopwords:\n",
    "        text = text.split()\n",
    "        stops = set(stopwords.words(\"english\"))\n",
    "        text = [w for w in text if not w in stops]\n",
    "        text = \" \".join(text)\n",
    "\n",
    "    return text    "
   ]
  },
  {
   "cell_type": "code",
   "execution_count": 8,
   "metadata": {
    "colab": {
     "base_uri": "https://localhost:8080/",
     "height": 53
    },
    "colab_type": "code",
    "executionInfo": {
     "elapsed": 99176,
     "status": "ok",
     "timestamp": 1582477148120,
     "user": {
      "displayName": "TheMadMi",
      "photoUrl": "https://lh3.googleusercontent.com/a-/AAuE7mC5L-YNwLHwoOIiOeKZU9KNcyd8jjr6XOM3iTwD=s64",
      "userId": "05162946888376425934"
     },
     "user_tz": -330
    },
    "id": "kyGo203_rEvx",
    "outputId": "d784d6bd-3199-4bcb-eae3-ad3910fe7206"
   },
   "outputs": [
    {
     "name": "stdout",
     "output_type": "stream",
     "text": [
      "Headlines are complete.\n",
      "Texts are complete.\n"
     ]
    }
   ],
   "source": [
    "cleaned_headlines = []\n",
    "cleaned_text = []\n",
    "\n",
    "for headlines in reviews['headlines']:\n",
    "    cleaned_headlines.append(clean_text(headlines, remove_stopwords=False))\n",
    "print(\"Headlines are complete.\")\n",
    "\n",
    "for text in reviews['text']:\n",
    "    cleaned_text.append(clean_text(text))\n",
    "print(\"Texts are complete.\")"
   ]
  },
  {
   "cell_type": "code",
   "execution_count": 9,
   "metadata": {
    "colab": {
     "base_uri": "https://localhost:8080/",
     "height": 394
    },
    "colab_type": "code",
    "executionInfo": {
     "elapsed": 99110,
     "status": "ok",
     "timestamp": 1582477148124,
     "user": {
      "displayName": "TheMadMi",
      "photoUrl": "https://lh3.googleusercontent.com/a-/AAuE7mC5L-YNwLHwoOIiOeKZU9KNcyd8jjr6XOM3iTwD=s64",
      "userId": "05162946888376425934"
     },
     "user_tz": -330
    },
    "id": "qkK_Y6v2rEv4",
    "outputId": "dad434ef-c9d4-4a57-f6fb-fe996795e389"
   },
   "outputs": [
    {
     "name": "stdout",
     "output_type": "stream",
     "text": [
      "Review:  1\n",
      "upgrad learner switches to career in ml   al with 90  salary hike\n",
      "--------------------------------------------------------------------------------\n",
      "saurav kant alumnus upgrad iiit b pg program machine learning artificial intelligence sr systems engineer infosys almost 5 years work experience program upgrad 360 degree career support helped transition data scientist tech mahindra 90 salary hike upgrad online power learning powered 3 lakh careers\n",
      "\n",
      "Review:  2\n",
      "delhi techie wins free food from swiggy for one year on cred\n",
      "--------------------------------------------------------------------------------\n",
      "kunal shah credit card bill payment platform cred gave users chance win free food swiggy one year pranav kaushik delhi techie bagged reward spending 2000 cred coins users get one cred coin per rupee bill paid used avail rewards brands like ixigo bookmyshow ubereats cult fit\n",
      "\n",
      "Review:  3\n",
      "new zealand end rohit sharma led india 12 match winning streak\n",
      "--------------------------------------------------------------------------------\n",
      "new zealand defeated india 8 wickets fourth odi hamilton thursday win first match five match odi series india lost international match rohit sharma captaincy 12 consecutive victories dating back march 2018 match witnessed india getting 92 seventh lowest total odi cricket history\n",
      "\n",
      "Review:  4\n",
      "aegon life iterm insurance plan helps customers save tax\n",
      "--------------------------------------------------------------------------------\n",
      "aegon life iterm insurance plan customers enjoy tax benefits premiums paid save â¹46 800^ taxes plan provides life cover age 100 years also customers options insure critical illnesses disability accidental death benefit rider life cover age 80 years\n",
      "\n"
     ]
    }
   ],
   "source": [
    "# let's inspect some clean reviews\n",
    "for i in range(4):\n",
    "    print(\"Review: \",i+1)\n",
    "    print(cleaned_headlines[i])\n",
    "    print('-'*80)\n",
    "    print(cleaned_text[i])\n",
    "    print()"
   ]
  },
  {
   "cell_type": "code",
   "execution_count": 10,
   "metadata": {
    "colab": {
     "base_uri": "https://localhost:8080/",
     "height": 281
    },
    "colab_type": "code",
    "executionInfo": {
     "elapsed": 99654,
     "status": "ok",
     "timestamp": 1582477148738,
     "user": {
      "displayName": "TheMadMi",
      "photoUrl": "https://lh3.googleusercontent.com/a-/AAuE7mC5L-YNwLHwoOIiOeKZU9KNcyd8jjr6XOM3iTwD=s64",
      "userId": "05162946888376425934"
     },
     "user_tz": -330
    },
    "id": "wSs02_tlrEv_",
    "outputId": "daf4cf97-09ac-43c8-cfd8-5c7c61405339"
   },
   "outputs": [
    {
     "data": {
      "image/png": "[encoded data removed]",
      "text/plain": [
       "<Figure size 432x288 with 2 Axes>"
      ]
     },
     "metadata": {
      "tags": []
     },
     "output_type": "display_data"
    }
   ],
   "source": [
    "# distribution of sequences\n",
    "import matplotlib.pyplot as plt\n",
    "\n",
    "text_word_count = []\n",
    "headlines_word_count = []\n",
    "\n",
    "for i in cleaned_text:\n",
    "    text_word_count.append(len(i.split()))\n",
    "for i in cleaned_headlines:\n",
    "    headlines_word_count.append(len(i.split()))\n",
    "\n",
    "length_df = pd.DataFrame({'text': text_word_count, 'headlines': headlines_word_count})\n",
    "length_df.hist(bins=15)\n",
    "plt.show()"
   ]
  },
  {
   "cell_type": "code",
   "execution_count": 11,
   "metadata": {
    "colab": {
     "base_uri": "https://localhost:8080/",
     "height": 35
    },
    "colab_type": "code",
    "executionInfo": {
     "elapsed": 99594,
     "status": "ok",
     "timestamp": 1582477148748,
     "user": {
      "displayName": "TheMadMi",
      "photoUrl": "https://lh3.googleusercontent.com/a-/AAuE7mC5L-YNwLHwoOIiOeKZU9KNcyd8jjr6XOM3iTwD=s64",
      "userId": "05162946888376425934"
     },
     "user_tz": -330
    },
    "id": "73mXczfLrEwG",
    "outputId": "18670815-6cb6-4a15-f46c-bc0fad0a056b"
   },
   "outputs": [
    {
     "name": "stdout",
     "output_type": "stream",
     "text": [
      "0.9998882091099413\n"
     ]
    }
   ],
   "source": [
    "count = 0\n",
    "for i in cleaned_text:\n",
    "    if(len(i.split())<=55):\n",
    "        count += 1\n",
    "print(count/len(cleaned_text))"
   ]
  },
  {
   "cell_type": "code",
   "execution_count": 0,
   "metadata": {
    "colab": {},
    "colab_type": "code",
    "id": "l0iIs-OPrEwM"
   },
   "outputs": [],
   "source": [
    "max_headlines_len=15\n",
    "max_text_len=55\n",
    "\n",
    "cleaned_text = np.array(cleaned_text)\n",
    "cleaned_headlines = np.array(cleaned_headlines)\n",
    "\n",
    "short_text=[]\n",
    "short_headlines=[]\n",
    "\n",
    "for i in range(len(cleaned_text)):\n",
    "    \n",
    "    if(len(cleaned_headlines[i].split())<=max_headlines_len and len(cleaned_text[i].split())<=max_text_len):\n",
    "        short_text.append(cleaned_text[i])\n",
    "        short_headlines.append(cleaned_headlines[i])\n",
    "\n",
    "df=pd.DataFrame({'text':short_text,'headlines':short_headlines})\n",
    "df['headlines'] = df['headlines'].apply(lambda x : 'sostok '+ x + ' eostok')\n",
    "\n",
    "from sklearn.model_selection import train_test_split\n",
    "x_tr,x_val,y_tr,y_val=train_test_split(np.array(df['text']),np.array(df['headlines']),test_size=0.1,random_state=0,shuffle=True)"
   ]
  },
  {
   "cell_type": "code",
   "execution_count": 13,
   "metadata": {
    "colab": {
     "base_uri": "https://localhost:8080/",
     "height": 380
    },
    "colab_type": "code",
    "executionInfo": {
     "elapsed": 100040,
     "status": "ok",
     "timestamp": 1582477149292,
     "user": {
      "displayName": "TheMadMi",
      "photoUrl": "https://lh3.googleusercontent.com/a-/AAuE7mC5L-YNwLHwoOIiOeKZU9KNcyd8jjr6XOM3iTwD=s64",
      "userId": "05162946888376425934"
     },
     "user_tz": -330
    },
    "id": "5u3uNW-qrEwT",
    "outputId": "7fc58a25-199e-4987-9725-89fd76380681"
   },
   "outputs": [
    {
     "data": {
      "text/html": [
       "<div>\n",
       "<style scoped>\n",
       "    .dataframe tbody tr th:only-of-type {\n",
       "        vertical-align: middle;\n",
       "    }\n",
       "\n",
       "    .dataframe tbody tr th {\n",
       "        vertical-align: top;\n",
       "    }\n",
       "\n",
       "    .dataframe thead th {\n",
       "        text-align: right;\n",
       "    }\n",
       "</style>\n",
       "<table border=\"1\" class=\"dataframe\">\n",
       "  <thead>\n",
       "    <tr style=\"text-align: right;\">\n",
       "      <th></th>\n",
       "      <th>text</th>\n",
       "      <th>headlines</th>\n",
       "    </tr>\n",
       "  </thead>\n",
       "  <tbody>\n",
       "    <tr>\n",
       "      <th>0</th>\n",
       "      <td>saurav kant alumnus upgrad iiit b pg program machine learning artificial intelligence sr systems engineer infosys almost 5 years work experience program upgrad 360 degree career support helped tra...</td>\n",
       "      <td>sostok upgrad learner switches to career in ml   al with 90  salary hike eostok</td>\n",
       "    </tr>\n",
       "    <tr>\n",
       "      <th>1</th>\n",
       "      <td>kunal shah credit card bill payment platform cred gave users chance win free food swiggy one year pranav kaushik delhi techie bagged reward spending 2000 cred coins users get one cred coin per rup...</td>\n",
       "      <td>sostok delhi techie wins free food from swiggy for one year on cred eostok</td>\n",
       "    </tr>\n",
       "    <tr>\n",
       "      <th>2</th>\n",
       "      <td>new zealand defeated india 8 wickets fourth odi hamilton thursday win first match five match odi series india lost international match rohit sharma captaincy 12 consecutive victories dating back m...</td>\n",
       "      <td>sostok new zealand end rohit sharma led india 12 match winning streak eostok</td>\n",
       "    </tr>\n",
       "    <tr>\n",
       "      <th>3</th>\n",
       "      <td>aegon life iterm insurance plan customers enjoy tax benefits premiums paid save â¹46 800^ taxes plan provides life cover age 100 years also customers options insure critical illnesses disability ...</td>\n",
       "      <td>sostok aegon life iterm insurance plan helps customers save tax eostok</td>\n",
       "    </tr>\n",
       "    <tr>\n",
       "      <th>4</th>\n",
       "      <td>speaking sexual harassment allegations rajkumar hirani sonam kapoor said i've known hirani many years true metoo movement get derailed metoo movement always believe woman case need reserve judgmen...</td>\n",
       "      <td>sostok have known hirani for yrs  what if metoo claims are not true  sonam eostok</td>\n",
       "    </tr>\n",
       "  </tbody>\n",
       "</table>\n",
       "</div>"
      ],
      "text/plain": [
       "                                                                                                                                                                                                      text                                                                          headlines\n",
       "0  saurav kant alumnus upgrad iiit b pg program machine learning artificial intelligence sr systems engineer infosys almost 5 years work experience program upgrad 360 degree career support helped tra...    sostok upgrad learner switches to career in ml   al with 90  salary hike eostok\n",
       "1  kunal shah credit card bill payment platform cred gave users chance win free food swiggy one year pranav kaushik delhi techie bagged reward spending 2000 cred coins users get one cred coin per rup...         sostok delhi techie wins free food from swiggy for one year on cred eostok\n",
       "2  new zealand defeated india 8 wickets fourth odi hamilton thursday win first match five match odi series india lost international match rohit sharma captaincy 12 consecutive victories dating back m...       sostok new zealand end rohit sharma led india 12 match winning streak eostok\n",
       "3  aegon life iterm insurance plan customers enjoy tax benefits premiums paid save â¹46 800^ taxes plan provides life cover age 100 years also customers options insure critical illnesses disability ...             sostok aegon life iterm insurance plan helps customers save tax eostok\n",
       "4  speaking sexual harassment allegations rajkumar hirani sonam kapoor said i've known hirani many years true metoo movement get derailed metoo movement always believe woman case need reserve judgmen...  sostok have known hirani for yrs  what if metoo claims are not true  sonam eostok"
      ]
     },
     "execution_count": 13,
     "metadata": {
      "tags": []
     },
     "output_type": "execute_result"
    }
   ],
   "source": [
    "df.head()"
   ]
  },
  {
   "cell_type": "code",
   "execution_count": 14,
   "metadata": {
    "colab": {
     "base_uri": "https://localhost:8080/",
     "height": 71
    },
    "colab_type": "code",
    "executionInfo": {
     "elapsed": 110254,
     "status": "ok",
     "timestamp": 1582477159580,
     "user": {
      "displayName": "TheMadMi",
      "photoUrl": "https://lh3.googleusercontent.com/a-/AAuE7mC5L-YNwLHwoOIiOeKZU9KNcyd8jjr6XOM3iTwD=s64",
      "userId": "05162946888376425934"
     },
     "user_tz": -330
    },
    "id": "xuH5ZL_PrEwj",
    "outputId": "0d2f5a78-8c07-4a8e-aba0-eb58d0f7e754"
   },
   "outputs": [
    {
     "name": "stdout",
     "output_type": "stream",
     "text": [
      "% of rare words in vocabulary: 61.80569447222778\n",
      "Total Coverage of rare words: 2.483531955854811\n"
     ]
    },
    {
     "data": {
      "text/plain": [
       "34369"
      ]
     },
     "execution_count": 14,
     "metadata": {
      "tags": []
     },
     "output_type": "execute_result"
    }
   ],
   "source": [
    "from keras.preprocessing.text import Tokenizer \n",
    "from keras.preprocessing.sequence import pad_sequences\n",
    "\n",
    "#prepare a tokenizer for reviews on training data\n",
    "x_tokenizer = Tokenizer() \n",
    "x_tokenizer.fit_on_texts(list(x_tr))\n",
    "\n",
    "thresh=4\n",
    "cnt=0\n",
    "tot_cnt=0\n",
    "freq=0\n",
    "tot_freq=0\n",
    "\n",
    "for key,value in x_tokenizer.word_counts.items():\n",
    "    tot_cnt=tot_cnt+1\n",
    "    tot_freq=tot_freq+value\n",
    "    if(value<thresh):\n",
    "        cnt=cnt+1\n",
    "        freq=freq+value\n",
    "    \n",
    "print(\"% of rare words in vocabulary:\",(cnt/tot_cnt)*100)\n",
    "print(\"Total Coverage of rare words:\",(freq/tot_freq)*100)\n",
    "\n",
    "#prepare a tokenizer for reviews on training data\n",
    "x_tokenizer = Tokenizer(num_words=tot_cnt-cnt) \n",
    "x_tokenizer.fit_on_texts(list(x_tr))\n",
    "\n",
    "#convert text sequences into integer sequences\n",
    "x_tr_seq    =   x_tokenizer.texts_to_sequences(x_tr) \n",
    "x_val_seq   =   x_tokenizer.texts_to_sequences(x_val)\n",
    "\n",
    "#padding zero upto maximum length\n",
    "x_tr    =   pad_sequences(x_tr_seq,  maxlen=max_text_len, padding='post')\n",
    "x_val   =   pad_sequences(x_val_seq, maxlen=max_text_len, padding='post')\n",
    "\n",
    "#size of vocabulary ( +1 for padding token)\n",
    "x_voc   =  x_tokenizer.num_words + 1\n",
    "\n",
    "x_voc"
   ]
  },
  {
   "cell_type": "code",
   "execution_count": 15,
   "metadata": {
    "colab": {
     "base_uri": "https://localhost:8080/",
     "height": 71
    },
    "colab_type": "code",
    "executionInfo": {
     "elapsed": 114650,
     "status": "ok",
     "timestamp": 1582477164060,
     "user": {
      "displayName": "TheMadMi",
      "photoUrl": "https://lh3.googleusercontent.com/a-/AAuE7mC5L-YNwLHwoOIiOeKZU9KNcyd8jjr6XOM3iTwD=s64",
      "userId": "05162946888376425934"
     },
     "user_tz": -330
    },
    "id": "DyY--9AcrEwr",
    "outputId": "361dfc45-0c96-4aca-dc47-6f0024ebb2d2"
   },
   "outputs": [
    {
     "name": "stdout",
     "output_type": "stream",
     "text": [
      "% of rare words in vocabulary: 71.16418502093501\n",
      "Total Coverage of rare words: 4.875782612424598\n"
     ]
    },
    {
     "data": {
      "text/plain": [
       "(88502, 88502)"
      ]
     },
     "execution_count": 15,
     "metadata": {
      "tags": []
     },
     "output_type": "execute_result"
    }
   ],
   "source": [
    "#prepare a tokenizer for reviews on training data\n",
    "y_tokenizer = Tokenizer()   \n",
    "y_tokenizer.fit_on_texts(list(y_tr))\n",
    "\n",
    "thresh=6\n",
    "cnt=0\n",
    "tot_cnt=0\n",
    "freq=0\n",
    "tot_freq=0\n",
    "\n",
    "for key,value in y_tokenizer.word_counts.items():\n",
    "    tot_cnt=tot_cnt+1\n",
    "    tot_freq=tot_freq+value\n",
    "    if(value<thresh):\n",
    "        cnt=cnt+1\n",
    "        freq=freq+value\n",
    "    \n",
    "print(\"% of rare words in vocabulary:\",(cnt/tot_cnt)*100)\n",
    "print(\"Total Coverage of rare words:\",(freq/tot_freq)*100)\n",
    "\n",
    "#prepare a tokenizer for reviews on training data\n",
    "y_tokenizer = Tokenizer(num_words=tot_cnt-cnt) \n",
    "y_tokenizer.fit_on_texts(list(y_tr))\n",
    "\n",
    "#convert text sequences into integer sequences\n",
    "y_tr_seq    =   y_tokenizer.texts_to_sequences(y_tr) \n",
    "y_val_seq   =   y_tokenizer.texts_to_sequences(y_val) \n",
    "\n",
    "#padding zero upto maximum length\n",
    "y_tr    =   pad_sequences(y_tr_seq, maxlen=max_headlines_len, padding='post')\n",
    "y_val   =   pad_sequences(y_val_seq, maxlen=max_headlines_len, padding='post')\n",
    "\n",
    "#size of vocabulary\n",
    "y_voc  =   y_tokenizer.num_words +1\n",
    "\n",
    "y_tokenizer.word_counts['sostok'],len(y_tr)   "
   ]
  },
  {
   "cell_type": "code",
   "execution_count": 0,
   "metadata": {
    "colab": {},
    "colab_type": "code",
    "id": "tLzr3p7CrEwx"
   },
   "outputs": [],
   "source": [
    "ind=[]\n",
    "for i in range(len(y_tr)):\n",
    "    cnt=0\n",
    "    for j in y_tr[i]:\n",
    "        if j!=0:\n",
    "            cnt=cnt+1\n",
    "    if(cnt==2):\n",
    "        ind.append(i)\n",
    "\n",
    "y_tr=np.delete(y_tr,ind, axis=0)\n",
    "x_tr=np.delete(x_tr,ind, axis=0)\n",
    "\n",
    "ind=[]\n",
    "for i in range(len(y_val)):\n",
    "    cnt=0\n",
    "    for j in y_val[i]:\n",
    "        if j!=0:\n",
    "            cnt=cnt+1\n",
    "    if(cnt==2):\n",
    "        ind.append(i)\n",
    "\n",
    "y_val=np.delete(y_val,ind, axis=0)\n",
    "x_val=np.delete(x_val,ind, axis=0)"
   ]
  },
  {
   "cell_type": "code",
   "execution_count": 17,
   "metadata": {
    "colab": {
     "base_uri": "https://localhost:8080/",
     "height": 859
    },
    "colab_type": "code",
    "executionInfo": {
     "elapsed": 120324,
     "status": "ok",
     "timestamp": 1582477169838,
     "user": {
      "displayName": "TheMadMi",
      "photoUrl": "https://lh3.googleusercontent.com/a-/AAuE7mC5L-YNwLHwoOIiOeKZU9KNcyd8jjr6XOM3iTwD=s64",
      "userId": "05162946888376425934"
     },
     "user_tz": -330
    },
    "id": "DpJOv_Z_rEw7",
    "outputId": "dfd6b9f5-7c99-4cb2-976d-31fa0f441e43"
   },
   "outputs": [
    {
     "name": "stdout",
     "output_type": "stream",
     "text": [
      "WARNING:tensorflow:From /usr/local/lib/python3.6/dist-packages/keras/backend/tensorflow_backend.py:107: The name tf.reset_default_graph is deprecated. Please use tf.compat.v1.reset_default_graph instead.\n",
      "\n",
      "WARNING:tensorflow:From /usr/local/lib/python3.6/dist-packages/keras/backend/tensorflow_backend.py:111: The name tf.placeholder_with_default is deprecated. Please use tf.compat.v1.placeholder_with_default instead.\n",
      "\n",
      "WARNING:tensorflow:From /usr/local/lib/python3.6/dist-packages/keras/backend/tensorflow_backend.py:66: The name tf.get_default_graph is deprecated. Please use tf.compat.v1.get_default_graph instead.\n",
      "\n",
      "WARNING:tensorflow:From /usr/local/lib/python3.6/dist-packages/tensorflow_core/python/keras/initializers.py:119: calling RandomUniform.__init__ (from tensorflow.python.ops.init_ops) with dtype is deprecated and will be removed in a future version.\n",
      "Instructions for updating:\n",
      "Call initializer instance with the dtype argument instead of passing it to the constructor\n",
      "WARNING:tensorflow:From /usr/local/lib/python3.6/dist-packages/tensorflow_core/python/ops/resource_variable_ops.py:1630: calling BaseResourceVariable.__init__ (from tensorflow.python.ops.resource_variable_ops) with constraint is deprecated and will be removed in a future version.\n",
      "Instructions for updating:\n",
      "If using Keras pass *_constraint arguments to layers.\n",
      "Model: \"model\"\n",
      "__________________________________________________________________________________________________\n",
      "Layer (type)                    Output Shape         Param #     Connected to                     \n",
      "==================================================================================================\n",
      "input_1 (InputLayer)            [(None, 55)]         0                                            \n",
      "__________________________________________________________________________________________________\n",
      "embedding (Embedding)           (None, 55, 110)      3780590     input_1[0][0]                    \n",
      "__________________________________________________________________________________________________\n",
      "lstm (LSTM)                     [(None, 55, 200), (N 248800      embedding[0][0]                  \n",
      "__________________________________________________________________________________________________\n",
      "input_2 (InputLayer)            [(None, None)]       0                                            \n",
      "__________________________________________________________________________________________________\n",
      "lstm_1 (LSTM)                   [(None, 55, 200), (N 320800      lstm[0][0]                       \n",
      "__________________________________________________________________________________________________\n",
      "embedding_1 (Embedding)         (None, None, 110)    1280400     input_2[0][0]                    \n",
      "__________________________________________________________________________________________________\n",
      "lstm_2 (LSTM)                   [(None, 55, 200), (N 320800      lstm_1[0][0]                     \n",
      "__________________________________________________________________________________________________\n",
      "lstm_3 (LSTM)                   [(None, None, 200),  248800      embedding_1[0][0]                \n",
      "                                                                 lstm_2[0][1]                     \n",
      "                                                                 lstm_2[0][2]                     \n",
      "__________________________________________________________________________________________________\n",
      "attention_layer (AttentionLayer ((None, None, 200),  80200       lstm_2[0][0]                     \n",
      "                                                                 lstm_3[0][0]                     \n",
      "__________________________________________________________________________________________________\n",
      "concat_layer (Concatenate)      (None, None, 400)    0           lstm_3[0][0]                     \n",
      "                                                                 attention_layer[0][0]            \n",
      "__________________________________________________________________________________________________\n",
      "time_distributed (TimeDistribut (None, None, 11640)  4667640     concat_layer[0][0]               \n",
      "==================================================================================================\n",
      "Total params: 10,948,030\n",
      "Trainable params: 10,948,030\n",
      "Non-trainable params: 0\n",
      "__________________________________________________________________________________________________\n"
     ]
    }
   ],
   "source": [
    "from keras import backend as K \n",
    "K.clear_session()\n",
    "\n",
    "latent_dim = 200\n",
    "embedding_dim=110\n",
    "\n",
    "# Encoder\n",
    "encoder_inputs = Input(shape=(max_text_len,))\n",
    "\n",
    "#embedding layer\n",
    "enc_emb =  Embedding(x_voc, embedding_dim,trainable=True)(encoder_inputs)\n",
    "\n",
    "#encoder lstm 1\n",
    "encoder_lstm1 = LSTM(latent_dim,return_sequences=True,return_state=True,dropout=0.4,recurrent_dropout=0.4)\n",
    "encoder_output1, state_h1, state_c1 = encoder_lstm1(enc_emb)\n",
    "\n",
    "#encoder lstm 2\n",
    "encoder_lstm2 = LSTM(latent_dim,return_sequences=True,return_state=True,dropout=0.4,recurrent_dropout=0.4)\n",
    "encoder_output2, state_h2, state_c2 = encoder_lstm2(encoder_output1)\n",
    "\n",
    "#encoder lstm 3\n",
    "encoder_lstm3=LSTM(latent_dim, return_state=True, return_sequences=True,dropout=0.4,recurrent_dropout=0.4)\n",
    "encoder_outputs, state_h, state_c= encoder_lstm3(encoder_output2)\n",
    "\n",
    "# Set up the decoder, using `encoder_states` as initial state.\n",
    "decoder_inputs = Input(shape=(None,))\n",
    "\n",
    "#embedding layer\n",
    "dec_emb_layer = Embedding(y_voc, embedding_dim,trainable=True)\n",
    "dec_emb = dec_emb_layer(decoder_inputs)\n",
    "\n",
    "decoder_lstm = LSTM(latent_dim, return_sequences=True, return_state=True,dropout=0.4,recurrent_dropout=0.2)\n",
    "decoder_outputs,decoder_fwd_state, decoder_back_state = decoder_lstm(dec_emb,initial_state=[state_h, state_c])\n",
    "\n",
    "# Attention layer\n",
    "attn_layer = AttentionLayer(name='attention_layer')\n",
    "attn_out, attn_states = attn_layer([encoder_outputs, decoder_outputs])\n",
    "\n",
    "# Concat attention input and decoder LSTM output\n",
    "decoder_concat_input = Concatenate(axis=-1, name='concat_layer')([decoder_outputs, attn_out])\n",
    "\n",
    "#dense layer\n",
    "decoder_dense =  TimeDistributed(Dense(y_voc, activation='softmax'))\n",
    "decoder_outputs = decoder_dense(decoder_concat_input)\n",
    "\n",
    "# Define the model \n",
    "model = Model([encoder_inputs, decoder_inputs], decoder_outputs)\n",
    "\n",
    "model.summary() "
   ]
  },
  {
   "cell_type": "code",
   "execution_count": 19,
   "metadata": {
    "colab": {
     "base_uri": "https://localhost:8080/",
     "height": 1000
    },
    "colab_type": "code",
    "executionInfo": {
     "elapsed": 10060840,
     "status": "ok",
     "timestamp": 1582487296720,
     "user": {
      "displayName": "TheMadMi",
      "photoUrl": "https://lh3.googleusercontent.com/a-/AAuE7mC5L-YNwLHwoOIiOeKZU9KNcyd8jjr6XOM3iTwD=s64",
      "userId": "05162946888376425934"
     },
     "user_tz": -330
    },
    "id": "za_vlKUnrExD",
    "outputId": "4ee9cc00-b937-4d12-9535-af58cf2cc466"
   },
   "outputs": [
    {
     "name": "stdout",
     "output_type": "stream",
     "text": [
      "Train on 88502 samples, validate on 9834 samples\n",
      "Epoch 1/50\n",
      "88502/88502 [==============================] - 201s 2ms/sample - loss: 4.8602 - val_loss: 4.5654\n",
      "Epoch 2/50\n",
      "88502/88502 [==============================] - 196s 2ms/sample - loss: 4.4818 - val_loss: 4.3047\n",
      "Epoch 3/50\n",
      "88502/88502 [==============================] - 198s 2ms/sample - loss: 4.2615 - val_loss: 4.1210\n",
      "Epoch 4/50\n",
      "88502/88502 [==============================] - 198s 2ms/sample - loss: 4.0995 - val_loss: 3.9902\n",
      "Epoch 5/50\n",
      "88502/88502 [==============================] - 196s 2ms/sample - loss: 3.9784 - val_loss: 3.8954\n",
      "Epoch 6/50\n",
      "88502/88502 [==============================] - 196s 2ms/sample - loss: 3.8804 - val_loss: 3.8119\n",
      "Epoch 7/50\n",
      "88502/88502 [==============================] - 196s 2ms/sample - loss: 3.7931 - val_loss: 3.7375\n",
      "Epoch 8/50\n",
      "88502/88502 [==============================] - 196s 2ms/sample - loss: 3.7182 - val_loss: 3.6867\n",
      "Epoch 9/50\n",
      "88502/88502 [==============================] - 196s 2ms/sample - loss: 3.6512 - val_loss: 3.6308\n",
      "Epoch 10/50\n",
      "88502/88502 [==============================] - 197s 2ms/sample - loss: 3.5945 - val_loss: 3.5903\n",
      "Epoch 11/50\n",
      "88502/88502 [==============================] - 197s 2ms/sample - loss: 3.5442 - val_loss: 3.5492\n",
      "Epoch 12/50\n",
      "88502/88502 [==============================] - 201s 2ms/sample - loss: 3.4991 - val_loss: 3.5149\n",
      "Epoch 13/50\n",
      "88502/88502 [==============================] - 200s 2ms/sample - loss: 3.4599 - val_loss: 3.4865\n",
      "Epoch 14/50\n",
      "88502/88502 [==============================] - 201s 2ms/sample - loss: 3.4230 - val_loss: 3.4592\n",
      "Epoch 15/50\n",
      "88502/88502 [==============================] - 201s 2ms/sample - loss: 3.3894 - val_loss: 3.4373\n",
      "Epoch 16/50\n",
      "88502/88502 [==============================] - 200s 2ms/sample - loss: 3.3583 - val_loss: 3.4205\n",
      "Epoch 17/50\n",
      "88502/88502 [==============================] - 201s 2ms/sample - loss: 3.3279 - val_loss: 3.3939\n",
      "Epoch 18/50\n",
      "88502/88502 [==============================] - 201s 2ms/sample - loss: 3.3022 - val_loss: 3.3774\n",
      "Epoch 19/50\n",
      "88502/88502 [==============================] - 201s 2ms/sample - loss: 3.2771 - val_loss: 3.3594\n",
      "Epoch 20/50\n",
      "88502/88502 [==============================] - 202s 2ms/sample - loss: 3.2528 - val_loss: 3.3359\n",
      "Epoch 21/50\n",
      "88502/88502 [==============================] - 203s 2ms/sample - loss: 3.2216 - val_loss: 3.3138\n",
      "Epoch 22/50\n",
      "88502/88502 [==============================] - 209s 2ms/sample - loss: 3.1955 - val_loss: 3.3057\n",
      "Epoch 23/50\n",
      "88502/88502 [==============================] - 205s 2ms/sample - loss: 3.1750 - val_loss: 3.2866\n",
      "Epoch 24/50\n",
      "88502/88502 [==============================] - 202s 2ms/sample - loss: 3.1512 - val_loss: 3.2730\n",
      "Epoch 25/50\n",
      "88502/88502 [==============================] - 201s 2ms/sample - loss: 3.1208 - val_loss: 3.2520\n",
      "Epoch 26/50\n",
      "88502/88502 [==============================] - 201s 2ms/sample - loss: 3.0904 - val_loss: 3.2359\n",
      "Epoch 27/50\n",
      "88502/88502 [==============================] - 201s 2ms/sample - loss: 3.0680 - val_loss: 3.2263\n",
      "Epoch 28/50\n",
      "88502/88502 [==============================] - 201s 2ms/sample - loss: 3.0506 - val_loss: 3.2130\n",
      "Epoch 29/50\n",
      "88502/88502 [==============================] - 201s 2ms/sample - loss: 3.0346 - val_loss: 3.2018\n",
      "Epoch 30/50\n",
      "88502/88502 [==============================] - 204s 2ms/sample - loss: 3.0187 - val_loss: 3.1866\n",
      "Epoch 31/50\n",
      "88502/88502 [==============================] - 204s 2ms/sample - loss: 3.0017 - val_loss: 3.1827\n",
      "Epoch 32/50\n",
      "88502/88502 [==============================] - 199s 2ms/sample - loss: 2.9833 - val_loss: 3.1731\n",
      "Epoch 33/50\n",
      "88502/88502 [==============================] - 200s 2ms/sample - loss: 2.9654 - val_loss: 3.1662\n",
      "Epoch 34/50\n",
      "88502/88502 [==============================] - 201s 2ms/sample - loss: 2.9478 - val_loss: 3.1559\n",
      "Epoch 35/50\n",
      "88502/88502 [==============================] - 203s 2ms/sample - loss: 2.9317 - val_loss: 3.1370\n",
      "Epoch 36/50\n",
      "88502/88502 [==============================] - 202s 2ms/sample - loss: 2.9167 - val_loss: 3.1440\n",
      "Epoch 37/50\n",
      "88502/88502 [==============================] - 203s 2ms/sample - loss: 2.9017 - val_loss: 3.1229\n",
      "Epoch 38/50\n",
      "88502/88502 [==============================] - 202s 2ms/sample - loss: 2.8865 - val_loss: 3.1175\n",
      "Epoch 39/50\n",
      "88502/88502 [==============================] - 207s 2ms/sample - loss: 2.8709 - val_loss: 3.1234\n",
      "Epoch 40/50\n",
      "88502/88502 [==============================] - 207s 2ms/sample - loss: 2.8566 - val_loss: 3.1066\n",
      "Epoch 41/50\n",
      "88502/88502 [==============================] - 204s 2ms/sample - loss: 2.8420 - val_loss: 3.1045\n",
      "Epoch 42/50\n",
      "88502/88502 [==============================] - 202s 2ms/sample - loss: 2.8278 - val_loss: 3.0877\n",
      "Epoch 43/50\n",
      "88502/88502 [==============================] - 204s 2ms/sample - loss: 2.8140 - val_loss: 3.0852\n",
      "Epoch 44/50\n",
      "88502/88502 [==============================] - 202s 2ms/sample - loss: 2.8016 - val_loss: 3.0764\n",
      "Epoch 45/50\n",
      "88502/88502 [==============================] - 203s 2ms/sample - loss: 2.7909 - val_loss: 3.0704\n",
      "Epoch 46/50\n",
      "88502/88502 [==============================] - 201s 2ms/sample - loss: 2.7798 - val_loss: 3.0640\n",
      "Epoch 47/50\n",
      "88502/88502 [==============================] - 202s 2ms/sample - loss: 2.7693 - val_loss: 3.0632\n",
      "Epoch 48/50\n",
      "88502/88502 [==============================] - 205s 2ms/sample - loss: 2.7607 - val_loss: 3.0515\n",
      "Epoch 49/50\n",
      "88502/88502 [==============================] - 201s 2ms/sample - loss: 2.7498 - val_loss: 3.0494\n",
      "Epoch 50/50\n",
      "88502/88502 [==============================] - 202s 2ms/sample - loss: 2.7409 - val_loss: 3.0460\n"
     ]
    }
   ],
   "source": [
    "model.compile(optimizer='rmsprop', loss='sparse_categorical_crossentropy')\n",
    "es = EarlyStopping(monitor='val_loss', mode='min', verbose=1,patience=2)\n",
    "history=model.fit([x_tr,y_tr[:,:-1]], y_tr.reshape(y_tr.shape[0],y_tr.shape[1], 1)[:,1:] ,epochs=50,callbacks=[es],batch_size=128, validation_data=([x_val,y_val[:,:-1]], y_val.reshape(y_val.shape[0],y_val.shape[1], 1)[:,1:]))"
   ]
  },
  {
   "cell_type": "code",
   "execution_count": 20,
   "metadata": {
    "colab": {
     "base_uri": "https://localhost:8080/",
     "height": 35
    },
    "colab_type": "code",
    "executionInfo": {
     "elapsed": 38702,
     "status": "ok",
     "timestamp": 1582487348004,
     "user": {
      "displayName": "TheMadMi",
      "photoUrl": "https://lh3.googleusercontent.com/a-/AAuE7mC5L-YNwLHwoOIiOeKZU9KNcyd8jjr6XOM3iTwD=s64",
      "userId": "05162946888376425934"
     },
     "user_tz": -330
    },
    "id": "LOZB5ryb0V7q",
    "outputId": "950aa8b8-8d37-4f78-9294-4014e88e06ab"
   },
   "outputs": [
    {
     "data": {
      "text/plain": [
       "GoogleDriveFile({'id': '1ifLn4a1XS2EYk_QL4UIwzflcLSUhWV7h'})"
      ]
     },
     "execution_count": 20,
     "metadata": {
      "tags": []
     },
     "output_type": "execute_result"
    }
   ],
   "source": [
    "# !pip install -U -q PyDrive\n",
    "from pydrive.auth import GoogleAuth\n",
    "from pydrive.drive import GoogleDrive\n",
    "from google.colab import auth\n",
    "from oauth2client.client import GoogleCredentials\n",
    "\n",
    "# 1. Authenticate and create the PyDrive client.\n",
    "auth.authenticate_user()\n",
    "gauth = GoogleAuth()\n",
    "gauth.credentials = GoogleCredentials.get_application_default()\n",
    "drive = GoogleDrive(gauth)\n",
    "\n",
    "# 2. Save Keras Model or weights on google drive\n",
    "\n",
    "# create on Colab directory\n",
    "model.save('text_summary.h5')    \n",
    "model_file = drive.CreateFile({'title' : 'text_summary.h5'})\n",
    "model_file.SetContentFile('text_summary.h5')\n",
    "model_file.Upload()\n",
    "\n",
    "# download to google drive\n",
    "drive.CreateFile({'id': model_file.get('id')})"
   ]
  },
  {
   "cell_type": "code",
   "execution_count": 21,
   "metadata": {
    "colab": {
     "base_uri": "https://localhost:8080/",
     "height": 265
    },
    "colab_type": "code",
    "executionInfo": {
     "elapsed": 1764,
     "status": "ok",
     "timestamp": 1582487351704,
     "user": {
      "displayName": "TheMadMi",
      "photoUrl": "https://lh3.googleusercontent.com/a-/AAuE7mC5L-YNwLHwoOIiOeKZU9KNcyd8jjr6XOM3iTwD=s64",
      "userId": "05162946888376425934"
     },
     "user_tz": -330
    },
    "id": "-AFY73NArExJ",
    "outputId": "dfd416fc-327e-4b15-d3bc-1492a8b24ae0"
   },
   "outputs": [
    {
     "data": {
      "image/png": "[encoded data removed]",
      "text/plain": [
       "<Figure size 432x288 with 1 Axes>"
      ]
     },
     "metadata": {
      "tags": []
     },
     "output_type": "display_data"
    }
   ],
   "source": [
    "from matplotlib import pyplot\n",
    "pyplot.plot(history.history['loss'], label='train')\n",
    "pyplot.plot(history.history['val_loss'], label='test')\n",
    "pyplot.legend()\n",
    "pyplot.show()"
   ]
  },
  {
   "cell_type": "code",
   "execution_count": 0,
   "metadata": {
    "colab": {},
    "colab_type": "code",
    "id": "-pYOvMgTrExO"
   },
   "outputs": [],
   "source": [
    "reverse_target_word_index=y_tokenizer.index_word\n",
    "reverse_source_word_index=x_tokenizer.index_word\n",
    "target_word_index=y_tokenizer.word_index\n",
    "\n",
    "# Encode the input sequence to get the feature vector\n",
    "encoder_model = Model(inputs=encoder_inputs,outputs=[encoder_outputs, state_h, state_c])\n",
    "\n",
    "# Decoder setup\n",
    "# Below tensors will hold the states of the previous time step\n",
    "decoder_state_input_h = Input(shape=(latent_dim,))\n",
    "decoder_state_input_c = Input(shape=(latent_dim,))\n",
    "decoder_hidden_state_input = Input(shape=(max_text_len,latent_dim))\n",
    "\n",
    "# Get the embeddings of the decoder sequence\n",
    "dec_emb2= dec_emb_layer(decoder_inputs) \n",
    "# To predict the next word in the sequence, set the initial states to the states from the previous time step\n",
    "decoder_outputs2, state_h2, state_c2 = decoder_lstm(dec_emb2, initial_state=[decoder_state_input_h, decoder_state_input_c])\n",
    "\n",
    "#attention inference\n",
    "attn_out_inf, attn_states_inf = attn_layer([decoder_hidden_state_input, decoder_outputs2])\n",
    "decoder_inf_concat = Concatenate(axis=-1, name='concat')([decoder_outputs2, attn_out_inf])\n",
    "\n",
    "# A dense softmax layer to generate prob dist. over the target vocabulary\n",
    "decoder_outputs2 = decoder_dense(decoder_inf_concat) \n",
    "\n",
    "# Final decoder model\n",
    "decoder_model = Model(\n",
    "    [decoder_inputs] + [decoder_hidden_state_input,decoder_state_input_h, decoder_state_input_c],\n",
    "    [decoder_outputs2] + [state_h2, state_c2])\n",
    "\n",
    "def decode_sequence(input_seq):\n",
    "    # Encode the input as state vectors.\n",
    "    e_out, e_h, e_c = encoder_model.predict(input_seq)\n",
    "    \n",
    "    # Generate empty target sequence of length 1.\n",
    "    target_seq = np.zeros((1,1))\n",
    "    \n",
    "    # Populate the first word of target sequence with the start word.\n",
    "    target_seq[0, 0] = target_word_index['sostok']\n",
    "\n",
    "    stop_condition = False\n",
    "    decoded_sentence = ''\n",
    "    while not stop_condition:\n",
    "      \n",
    "        output_tokens, h, c = decoder_model.predict([target_seq] + [e_out, e_h, e_c])\n",
    "\n",
    "        # Sample a token\n",
    "        sampled_token_index = np.argmax(output_tokens[0, -1, :])\n",
    "        sampled_token = reverse_target_word_index[sampled_token_index]\n",
    "        \n",
    "        if(sampled_token!='eostok'):\n",
    "            decoded_sentence += ' '+sampled_token\n",
    "\n",
    "        # Exit condition: either hit max length or find stop word.\n",
    "        if (sampled_token == 'eostok'  or len(decoded_sentence.split()) >= (max_headlines_len-1)):\n",
    "            stop_condition = True\n",
    "\n",
    "        # Update the target sequence (of length 1).\n",
    "        target_seq = np.zeros((1,1))\n",
    "        target_seq[0, 0] = sampled_token_index\n",
    "\n",
    "        # Update internal states\n",
    "        e_h, e_c = h, c\n",
    "\n",
    "    return decoded_sentence\n",
    "\n",
    "def seq2summary(input_seq):\n",
    "    newString=''\n",
    "    for i in input_seq:\n",
    "        if((i!=0 and i!=target_word_index['sostok']) and i!=target_word_index['eostok']):\n",
    "            newString=newString+reverse_target_word_index[i]+' '\n",
    "    return newString\n",
    "\n",
    "def seq2text(input_seq):\n",
    "    newString=''\n",
    "    for i in input_seq:\n",
    "        if(i!=0):\n",
    "            newString=newString+reverse_source_word_index[i]+' '\n",
    "    return newString"
   ]
  },
  {
   "cell_type": "code",
   "execution_count": 23,
   "metadata": {
    "colab": {
     "base_uri": "https://localhost:8080/",
     "height": 1000
    },
    "colab_type": "code",
    "executionInfo": {
     "elapsed": 11680,
     "status": "ok",
     "timestamp": 1582487374256,
     "user": {
      "displayName": "TheMadMi",
      "photoUrl": "https://lh3.googleusercontent.com/a-/AAuE7mC5L-YNwLHwoOIiOeKZU9KNcyd8jjr6XOM3iTwD=s64",
      "userId": "05162946888376425934"
     },
     "user_tz": -330
    },
    "id": "B8w0sTZFrExT",
    "outputId": "2793df0a-f66e-4073-ed51-88b7f303a87d"
   },
   "outputs": [
    {
     "name": "stdout",
     "output_type": "stream",
     "text": [
      "Review: gurugram based green tech startup launched bicycle sharing service app google play store app allows users discover nearby smart bikes available across delhi ncr region including noida gurugram faridabad chandigarh unlock via qr code users sign app aadhaar pay â¹10 per ride buy monthly subscription \n",
      "Original summary: launches bike sharing service app in ncr \n",
      "Predicted summary:  startup launches app to store app store in gurugram\n",
      "\n",
      "\n",
      "Review: actor smith shared pictures social media reveal cut son jaden dreadlocks role upcoming film 'life year' getting jaden smith ready first day filming maybe used scissors wrote alongside photos jaden star cara delevingne romantic drama film \n",
      "Original summary: will smith cuts off son hair for film role \n",
      "Predicted summary:  smith shares pic of his son from his son\n",
      "\n",
      "\n",
      "Review: video former karnataka cm siddaramaiah party worker surfaced online siddaramaiah called accident said woman like sister tried stop party worker taking time i've known 15 years added meanwhile said spoke roughly spoken like n \n",
      "Original summary: she is like sister siddaramaiah on with woman \n",
      "Predicted summary:  karnataka cm denies rumours of being killing her\n",
      "\n",
      "\n",
      "Review: ride hailing startup uber agreed use self driving technology allegedly stolen google self driving unit waymo settle trade secrets lawsuit uber pay waymo equity valued 245 million part settlement spokesperson waymo said trial decide case started earlier week dismissed judge \n",
      "Original summary: uber agrees not to use waymo self driving tech pays \n",
      "Predicted summary:  uber self driving tech startup in self driving case\n",
      "\n",
      "\n",
      "Review: oil natural gas corporation ongc raise first ever debt â¹25 000 crore partly fund â¹37 000 crore acquisition government 51 11 stake hpcl ongc â¹13 000 crore cash would need borrow rest fund acquisition notably board ongc last month gave principle approval acquisition \n",
      "Original summary: ongc to raise first ever debt of â¹25 000 cr to fund hpcl buy \n",
      "Predicted summary:  petrol price rises to â¹10 000 cr in first startup\n",
      "\n",
      "\n",
      "Review: delhi court friday directed cbi cancel look circular loc issued former iaf chief sp tyagi accused agustawestland vvip chopper deal cbi issued loc tyagi 2013 loc circular issued authorities check travelling person wanted law enforcement agencies \n",
      "Original summary: cbi to cancel look out notice against ex iaf chief in chopper scam \n",
      "Predicted summary:  cbi court orders cbi to look from ex pm chief\n",
      "\n",
      "\n",
      "Review: us president donald trump misspelled word multiple times twitter user wrote words good words jeans see got good jeans users tweeted cannot spell hell mean heil heel heal correctly heel sole \n",
      "Original summary: twitter mocks trump for misspelling the word \n",
      "Predicted summary:  twitter mocks trump over tweet about her remark\n",
      "\n",
      "\n",
      "Review: karnataka 67 year old autorickshaw driver narayana popular charging minimum fares beaten death babu 20 year old autorickshaw driver babu got argument narayana beat lost consciousness fell narayana declared brought dead second hospital taken first one enough oxygen supply \n",
      "Original summary: k'taka auto driver killed by another driver for charging lower fares \n",
      "Predicted summary:  k'taka driver driver dies after being hit by car in karnataka\n",
      "\n",
      "\n",
      "Review: canadian tattoo model got purple ink injected eyeball white part reportedly gone partially blind uploaded photos social media showing ink eye day procedure alleged tattoo artist used large needle instead small one went deep eye \n",
      "Original summary: model gets her tattooed goes partially blind \n",
      "Predicted summary:  canadian model gets a day after being trolled for\n",
      "\n",
      "\n",
      "Review: actor anupam kher revealed came mumbai â¹37 pocket today producer film hard work matters i'm living example work hard succeed added anupam revealed went bankrupt five thousand rupees producing 2005 film 'maine gandhi ko nahin n \n",
      "Original summary: i came to mumbai with â¹37 in my pocket anupam kher \n",
      "Predicted summary:  mumbai i would be a mumbai mumbai devgn kher\n",
      "\n",
      "\n",
      "Review: auctioneer richard madley conducted ipl auctions since first edition revealed bcci fired one line email email read 'your services required chosen replacement madley revealed added bcci give reason whatsoever thank 11 years service \n",
      "Original summary: bcci fired me via 1 line email man who conducted all ipl auctions \n",
      "Predicted summary:  bcci denies claims of bcci employee fired over 1 000\n",
      "\n",
      "\n",
      "Review: video shows dubai police officer hovering flying motorbike called rotors instead wheels video officer seen manoeuvring bike air dubai police vehicles background designed russian company fly 16 feet ground stay airborne around 25 minutes \n",
      "Original summary: video shows dubai officer on a flying motorbike \n",
      "Predicted summary:  video shows dubai cop flying video while driving\n",
      "\n",
      "\n",
      "Review: airports authority india aai appointed first woman firefighter sanyal currently undergoing training delhi aai facing shortage firefighters modified rules order recruit women aai chairman guruprasad mohapatra said sanyal appointed eastern region airports include kolkata patna ranchi among others \n",
      "Original summary: 1st woman appointed by airports authority \n",
      "Predicted summary:  india first woman to be in delhi\n",
      "\n",
      "\n",
      "Review: shah rukh khan speaking friendship aamir khan salman khan said three non blood brotherhood think strange sense camaraderie added talking stories rivalry shah rukh said talk think work last thing minds \n",
      "Original summary: aamir salman and i have a non blood brotherhood srk \n",
      "Predicted summary:  salman khan is a blood but i am a human srk\n",
      "\n",
      "\n",
      "Review: slamming new guidelines issued goa assembly media accreditation congress said unconstitutional undemocratic attack freedom press new guidelines demand newspaper must minimum daily circulation 15 000 copies gain access assembly online portals must minimum â¹10 lakh annual revenue news section \n",
      "Original summary: congress slams goa assembly criteria for media \n",
      "Predicted summary:  goa media slams media for new anti terror law\n",
      "\n",
      "\n",
      "Review: addressing rally uttar pradesh ghaziabad cm yogi adityanath said criminals either land jail sent house police encounter claiming law order situation improved since bjp came power added must seen criminals running away we'll make life hell \n",
      "Original summary: criminals will be jailed or sent to house up cm \n",
      "Predicted summary:  hotel has no land for criminals up cm yogi\n",
      "\n",
      "\n",
      "Review: ceo encrypted messaging app telegram pavel durov said platform blocked 8 500 channels october terrorist links incitement violence promotion violence form banned durov added telegram faced criticism past claims terrorists criminals used encrypted communication \n",
      "Original summary: 8 500 terrorist channels blocked in one month telegram ceo \n",
      "Predicted summary:  app to let users sue 8 terrorists ceo\n",
      "\n",
      "\n",
      "Review: karnataka assembly secretariat decided double room rent home bengaluru even increase current former mlas mlcs avail room â¹1 000 per month guest room availed â¹2 000 per month reportedly step taken curb entry unauthorised persons \n",
      "Original summary: karnataka doubles rent to â¹1 000 month for legislators \n",
      "Predicted summary:  k'taka cm orders karnataka to buy house for home\n",
      "\n",
      "\n",
      "Review: video assistant commissioner police repeatedly groping female sub inspector anti neet protests tamil nadu gone viral police trying control crowd gathered coimbatore incident took place video lady seen trying push senior policeman hand away \n",
      "Original summary: video shows tn cop groping female officer at neet protest \n",
      "Predicted summary:  video shows female cop tn police station during protest\n",
      "\n",
      "\n",
      "Review: indian drugmaker lupin issued warning letter us food drug administration fda repeated quality violations goa indore manufacturing facilities 2015 2016 fda found 134 instances drugs active ingredients failed initial testing lupin managing director nilesh gupta said would take six months address fda concerns \n",
      "Original summary: us drug regulator warns lupin on repeated quality violations \n",
      "Predicted summary:  indian body orders us drug to drug drug racket\n",
      "\n",
      "\n",
      "Review: director rajkumar hirani admitted changed parts ranbir kapoor starrer 'sanju' biopic actor sanjay dutt adding understood hero need empathy hirani added first edit ready screened film people hated said like man \n",
      "Original summary: changed 'sanju' to make sanjay dutt more hirani \n",
      "Predicted summary:  ranbir dutt is a hirani to play dutt hirani\n",
      "\n",
      "\n",
      "Review: ranbir kapoor asked indian cricket team captain virat kohli actress anushka sharma wedding jokingly said waiting attend mehndi hands call felt sad idea felt happy never seen happy beautiful added \n",
      "Original summary: was waiting with mehndi ranbir on virat anushka wedding \n",
      "Predicted summary:  i am not a lot of virat anushka on virat anushka wedding\n",
      "\n",
      "\n",
      "Review: us driver called help running fuel allegedly stole police car ran fuel troy james called help claiming car fuel responding policeman tried detain citing bizarre behaviour following james stole car drove caught police officers \n",
      "Original summary: driver steals police car runs out of fuel \n",
      "Predicted summary:  us driver to run over car in fuel fuel from car\n",
      "\n",
      "\n",
      "Review: goa water resources minister vinod palyekar claimed threat life drug mafia state said feared life since constantly targeted drug lobby operating goa state security committee sought report intelligence branch matter \n",
      "Original summary: goa minister claims threat to life from drug mafia \n",
      "Predicted summary:  goa minister claims he is drug life goa minister\n",
      "\n",
      "\n",
      "Review: actress bhumi pednekar said right beginning society tells boys cry vulnerable also teaching ko dard nhi bhumi added grow somewhere back mind start behaving heart built stone said \n",
      "Original summary: society teaches boys ko bhumi \n",
      "Predicted summary:  i am not a single boys in the match bhumi\n",
      "\n",
      "\n",
      "Review: ahead mcd election delhi cm arvind kejriwal friday said bjp congress wins power water tariff increase alleged bjp congress hatched conspiracy snatch departments delhi government government halved power tariff delhi provided free water added \n",
      "Original summary: power water bills will rise if bjp cong win mcd kejriwal \n",
      "Predicted summary:  cong will power power if cong wins power kejriwal\n",
      "\n",
      "\n",
      "Review: french foreign ministry thursday confirmed website citizens travelling abroad hacked usersâ personal data stolen âthe information include sensitive financial material data likely disclose destinations ministry said website set 2010 enable french citizens receive security related updates abroad \n",
      "Original summary: french foreign ministry confirms hackers stole website data \n",
      "Predicted summary:  french govt website hacked data hacked\n",
      "\n",
      "\n",
      "Review: bid prevent cheating examination centres rajasthan government considering ban social messaging apps like whatsapp around exam centres instead current practice disabling mobile internet services entirely ban selective applications hassle free common man official said arrangement much feasible added \n",
      "Original summary: rajasthan may ban apps near exam centres to stop cheating \n",
      "Predicted summary:  rajasthan bans apps from cheating after whatsapp ban\n",
      "\n",
      "\n",
      "Review: india 16 year old shooter manu bhaker shot total 240 9 set commonwealth games record bag gold women 10m air pistol gold coast games sunday another indian shooter heena sidhu finished second event scoring 234 india one bronze two silver six gold medals far cwg 2018 \n",
      "Original summary: 16 year old shooter manu sets cwg record to bag gold \n",
      "Predicted summary:  16 yr old shooter wins gold at cwg 2018\n",
      "\n",
      "\n",
      "Review: bjp president amit shah reportedly told party workers bjp enter alliance shiv sena 2019 lok sabha maharashtra assembly elections comes shiv sena voting confidence motion bjp led nda government shiv sena earlier announced contest 2019 elections alone \n",
      "Original summary: no alliance with shiv sena in 2019 poll shah to bjp workers \n",
      "Predicted summary:  bjp will not be bjp leader in 2019 polls amit shah\n",
      "\n",
      "\n",
      "Review: elon musk tuesday said twitter briefly locked account microblogging site suspected account hacked twitter thought got hacked locked account haha musk tweeted comes musk posted picture featuring drawing girl wearing bitcoin themed clothing caption wanna buy bitcoin \n",
      "Original summary: twitter thought i got hacked elon musk after bitcoin tweet \n",
      "Predicted summary:  twitter users make twitter account hacked elon musk\n",
      "\n",
      "\n",
      "Review: municipal corporation vadodara imposed ban sale hygiene issues least 50 manufacturers raided 4 000 kgs 3 500 kgs potatoes 1 200 litres water thrown civic body said consumption made monsoon leading spread diseases \n",
      "Original summary: vadodara bans 4000 kgs of thrown \n",
      "Predicted summary:  gurugram bans sale of 500 500 kg to sell water\n",
      "\n",
      "\n",
      "Review: man arrested saudi arabia teaching two year old daughter smoke video incident reportedly shot man showed placing cigarette daughter mouth arrest warrant issued man several people reported video country ministry labour social development \n",
      "Original summary: saudi man arrested for making 2 yr old daughter smoke \n",
      "Predicted summary:  saudi man arrested for daughter video of daughter arrested\n",
      "\n",
      "\n",
      "Review: responding report claiming times caught republic tv journalist arnab goswami alleged times using methods manipulating system according goswami times increased viewership employing method claimed times tying cable networks network \n",
      "Original summary: arnab says times now system to raise viewership \n",
      "Predicted summary:  arnab goswami used to times now times now\n",
      "\n",
      "\n",
      "Review: case cheating filed actor hrithik roshan eight others chennai allegedly duping man â¹21 lakh man said hired hrithik brand hrx brand regularly supply products sales stopped claimed hrx refused pay returned products \n",
      "Original summary: case filed against hrithik roshan for duping man of â¹21 lakh \n",
      "Predicted summary:  fir against hrithik for cheating man of â¹50 lakh\n",
      "\n",
      "\n",
      "Review: delhi government announced plans grade around 5 600 government private schools initiative help parents choose school kids based reliable information schools graded infrastructure teaching learning facilities safety among others evaluation process begin august grades awarded announced children day \n",
      "Original summary: delhi schools to be on infrastructure academics \n",
      "Predicted summary:  delhi govt to set up 5 5 5l schools to ensure schools\n",
      "\n",
      "\n",
      "Review: male nurse allegedly decapitated baby helping woman deliver rajasthan health centre sent another hospital hiding torso later doctors jodhpur government hospital examined woman found baby head inside nurse led police morgue placed body \n",
      "Original summary: baby in failed delivery male nurse leaves head inside \n",
      "Predicted summary:  woman dies after being raped by hospital in rajasthan\n",
      "\n",
      "\n",
      "Review: china rival luckin coffee wednesday announced raised 200 million series b funding round 2 2 billion valuation funding round led investors including sovereign wealth fund gic china international capital corporation luckin coffee officially launched january 2018 raised total 400 million date \n",
      "Original summary: starbucks china rival coffee raises 200 mn \n",
      "Predicted summary:  china firm raises 200 million in series b funding\n",
      "\n",
      "\n",
      "Review: tv celebrities participate reality show 'bigg boss 11' premiered sunday include 'kyunki saas bhi kabhi bahu thi' actor hiten tejwani former actress 'bhabi ji ghar par hai' shilpa shinde hina khan dawood ibrahim relative zubair khan godwoman durga peon daughter jyoti kumari also among 18 contestants \n",
      "Original summary: who are the in bigg boss 11 \n",
      "Predicted summary:  bigg boss contestant to play bigg boss 11 reports\n",
      "\n",
      "\n",
      "Review: karnataka chief minister siddaramaiah saturday claimed infrastructure projects worth â¹7 300 crore bengaluru completed end year first time huge sum sanctioned bengaluru chief minister added statement comes toured city instructed officials expedite work infrastructure projects \n",
      "Original summary: â¹7 300 crore infra projects in b'luru to be ready by dec cm \n",
      "Predicted summary:  k'taka cm to get â¹7 300 crore from bengaluru cm\n",
      "\n",
      "\n",
      "Review: government policy think tank niti aayog developing virtual assistant device like amazonâs alexa vernacular users device offer services voice interaction music playback lists streaming playing providing real time information news weather traffic sports reports would capable handling queries 18 languages \n",
      "Original summary: niti aayog to make virtual assistant device for users \n",
      "Predicted summary:  govt to invest in middle east in chennai\n",
      "\n",
      "\n",
      "Review: indian cricket captain virat kohli reportedly asked bcci let key indian fast bowlers like bhuvneshwar kumar jasprit bumrah skip next year ipl rest 2019 world cup instead world cup scheduled start may 30 days ipl expected conclude third week may \n",
      "Original summary: kohli wants fast bowlers to skip ipl rest for world cup reports \n",
      "Predicted summary:  kohli asked to bcci to kohli over ipl final\n",
      "\n",
      "\n",
      "Review: disinvestment indian railway catering tourism corporation irctc deferred government wants better valuation huge data getting captured valuation trying see utilise railway minister piyush goyal said irctc offers railway ticketing e catering services 3 crore registered users \n",
      "Original summary: government puts irctc disinvestment plan on hold \n",
      "Predicted summary:  railways to buy digital travel for its best tech\n",
      "\n",
      "\n",
      "Review: pakistan coach mickey arthur handed official warning one demerit point breaching icc code conduct third day play first south africa pakistan test arthur entered tv umpire room showed dissent decision given favour dean elgar room \n",
      "Original summary: pak coach warned for showing dissent at umpire decision \n",
      "Predicted summary:  pak coach coach sacked after being run over by\n",
      "\n",
      "\n",
      "Review: delhi high court appointed observer oversee kabaddi match players represented india asian games comes former india player mahipal singh alleged selectors took bribes pick certain players india lost kabaddi gold first time asian games history \n",
      "Original summary: court to india vs asiad team kabaddi match \n",
      "Predicted summary:  delhi hc to india u 17 asian games in asiad\n",
      "\n",
      "\n",
      "Review: supreme court stayed jammu kashmir high court order directing state government provide lifetime security former judges stating erroneous state contended security provision guidelines vips already provided ministry home affairs added forming another set guidelines would amount expert function \n",
      "Original summary: sc stays j k hc order on lifetime security to ex judges \n",
      "Predicted summary:  sc stays j k govt order on security council\n",
      "\n",
      "\n",
      "Review: breakthrough listen 100 million initiative find signs intelligent life universe expanded survey millions stars located plane milky way galaxy using australia based telescope infinite universe must life late physicist stephen hawking said 2015 launching project funded russian billionaire yuri milner \n",
      "Original summary: hawking backed project scanning milky way for alien life \n",
      "Predicted summary:  life of thrones actor astronomers 100 million\n",
      "\n",
      "\n",
      "Review: owners indigo first airline make formal offer buy stake air india said would provide rapid entry restricted international markets focused narrowly air india international operations air india express communicated added notably air india debt around â¹52 000 crore \n",
      "Original summary: air india to offer entry into international markets indigo \n",
      "Predicted summary:  air india to offer air india to buy air india\n",
      "\n",
      "\n",
      "Review: german automobile manufacturer porsche made average operating profit â¹11 lakh every car sold last year volkswagen brand delivered 2 lakh vehicles posted operating profit nearly â¹28 000 crore comparison porsche rivals daimler bmw made â¹3 2 lakh per vehicle last year \n",
      "Original summary: how much profit does porsche make on every car \n",
      "Predicted summary:  germany unveils its biggest car sold for 2 lakh\n",
      "\n",
      "\n",
      "Review: police assam lakhimpur said 16 year old girl alleged gangraped instead consensual sex boyfriend added made story gangrape questioned parents late night minor named two men complaint following police booked 20 year old man \n",
      "Original summary: girl who alleged rape had consensual sex with lover police \n",
      "Predicted summary:  rape victim does not mean sex abuse police assam police\n",
      "\n",
      "\n",
      "Review: ab de villiers slammed fastest ever odi hundred windies 2015 pink odi wherein south african team members wearing pink jerseys create awareness breast cancer de villiers reached three figure mark 31 balls went score 149 44 33 year old former captain hit 450 runs five pink odis far \n",
      "Original summary: odi cricket history fastest hundred came in a pink odi \n",
      "Predicted summary:  ab de villiers slams fastest odi ton in odi cricket\n",
      "\n",
      "\n",
      "Review: 5 500 dead people named voter list madhya pradesh kolaras assembly constituency letter state chief electoral officer informed election commission 1 900 multiple entries found voter list kolaras bypolls held february ceo blamed district collector district electoral officer error \n",
      "Original summary: over 5 500 dead voters listed in mp constituency voter list \n",
      "Predicted summary:  5 500 year old killed in mp list of list of candidates\n",
      "\n",
      "\n",
      "Review: woman traveling uber cab mumbai alleged sexually harassed driver unzipped pants started masturbating front added confronted threatened woman said started corner fighting alone public watching \n",
      "Original summary: uber driver masturbated threatened me says woman passenger \n",
      "Predicted summary:  uber driver driver who was driver who sexually harassed woman\n",
      "\n",
      "\n",
      "Review: former raw chief rajinder khanna appointed deputy national security advisor pm narendra modi led appointments committee cabinet khanna headed intelligence agency december 2014 december 2016 inducted employment contractual basis presently officer special duty neighbourhood studies national security council secretariat \n",
      "Original summary: former raw chief khanna appointed deputy nsa \n",
      "Predicted summary:  former bcci chief named head of cabinet\n",
      "\n",
      "\n",
      "Review: indian cricketer yuvraj singh praised new ipl team mumbai indians' captain rohit sharma saying think rohit terrific captain someone keeps nerves pretty calm seen rohit grow front player cricketer human one greats odis yuvraj added \n",
      "Original summary: looking forward to playing under captain rohit yuvraj \n",
      "Predicted summary:  rohit sharma is rohit sharma on ipl mumbai captain rohit\n",
      "\n",
      "\n",
      "Review: aiadmk wednesday said tamil nadu deputy chief minister panneerselvam brother raja sacked last week party following forget forgive policy raja expressed regret action senior party leader said raja sacked acted party principles ideologies \n",
      "Original summary: o raja following forget forgive policy aiadmk \n",
      "Predicted summary:  aiadmk chief secy resigns after aiadmk leader\n",
      "\n",
      "\n",
      "Review: supreme court wednesday asked gujarat trial court consider self styled godman rape accused asaram bapu case urgently finish trial time bound manner earlier february apex court directed uttar pradesh haryana government provide full protection witnesses asaram rape case \n",
      "Original summary: sc asks gujarat court to consider asaram rape case \n",
      "Predicted summary:  sc asks gujarat to rape case against asaram rape victim\n",
      "\n",
      "\n",
      "Review: following revelations british firm mined facebook user data help elect donald trump us president israel justice ministry opened probe whether social media giant violated country privacy laws ministry said israeli privacy laws permit usage personal data stated purpose individual consent \n",
      "Original summary: israel opens probe into facebook after data scandal \n",
      "Predicted summary:  fb probe into data scandal firm in uk\n",
      "\n",
      "\n",
      "Review: actress aishwarya rai speaking five year old daughter aaradhya said normal upbringing aware family stardom added like sit show films aishwarya said since aaradhya seen photographers everywhere young age developed ease media nn \n",
      "Original summary: aaradhya normal but she knows who we are aish \n",
      "Predicted summary:  i am not a daughter of my family aishwarya rai\n",
      "\n",
      "\n",
      "Review: argentine football captain lionel messi stopped security guards dragging away crying kid wanted photograph barcelona star ahead argentina world cup qualifier match uruguay forward stopped guards asked allow kid stopped crying hugging posing photographs \n",
      "Original summary: messi stops guards to let crying kid take selfie with him \n",
      "Predicted summary:  messi security forces to help messi fan\n",
      "\n",
      "\n",
      "Review: three sisters found unconscious one room residence delhi starved death initial post mortem report revealed trace fat bodies stomach absolutely empty doctor amita saxena said police said bodies children handed family second autopsy report awaited \n",
      "Original summary: 3 delhi sisters starved to death post mortem report \n",
      "Predicted summary:  3 men found dead in delhi over death penalty\n",
      "\n",
      "\n",
      "Review: indian space research organisation isro commence operation country positioning system indian regional navigational satellite system irnss early 2018 would make india part elite group countries positioning system isro spent â¹1 420 crore building setting seven irnss satellites space \n",
      "Original summary: isro to start operation of india own by 2018 \n",
      "Predicted summary:  isro successfully launches satellite\n",
      "\n",
      "\n",
      "Review: 65 year old hindu man died stab wounds thursday west bengal basirhat region communal clashes began three days ago controversial facebook post first death due violence injured least 23 people reports said angry mobs set tyres fire sounds local made bombs exploding could also heard \n",
      "Original summary: man dies in west bengal communal violence over facebook post \n",
      "Predicted summary:  man dies after being hit by west bengal\n",
      "\n",
      "\n",
      "Review: according reports actress aishwarya rai bachchan make singing debut upcoming film 'fanney khan' directed debutant atul manjrekar musical comedy reportedly feature aishwarya singer film mark aishwarya starring opposite anil kapoor 17 years said remake oscar nominated film 'everybody famous ' 2000 \n",
      "Original summary: aishwarya to make singing debut with 'fanney khan' report \n",
      "Predicted summary:  aishwarya to make aishwarya debut with 'fanney khan' report\n",
      "\n",
      "\n",
      "Review: england moeen ali friday became fifth fastest cricketer terms matches reach double 2 000 runs 100 wickets test cricket ali achieved feat 38 tests first test south africa becoming seventh english player 28th overall achieve double \n",
      "Original summary: ali 5th fastest to test double of 2 000 runs and wickets \n",
      "Predicted summary:  ali fastest to hit 100 000 runs in test cricket\n",
      "\n",
      "\n",
      "Review: actor shah rukh khan took twitter thank veteran actress shabana azmi saying daughter suhana seriously good actor shah rukh added words big encouragement suhana shabana earlier tweeted watched short clip acting terrific bless \n",
      "Original summary: srk thanks shabana for saying suhana will be a good actor \n",
      "Predicted summary:  srk daughter is good but i am good actor srk\n",
      "\n",
      "\n",
      "Review: 13 year old boy uttar pradesh hamirpur district committed suicide hanging sunday complete blue whale challenge police said boy body taken father phone hand game according family boy used phone father around sleeping \n",
      "Original summary: 13 year old commits suicide in up for blue whale challenge \n",
      "Predicted summary:  13 year old boy commits suicide after being blue whale challenge\n",
      "\n",
      "\n",
      "Review: billionaire azim premji two philanthropic arms azim premji philanthropic initiatives azim premji trust could receive least â¹5 000 crore wipro proposed â¹11 000 crore share buyback trusts sought additional approval market regulator sebi sell shares promoters back wipro notably premji family two units hold 73 18 wipro \n",
      "Original summary: azim premji trusts may get â¹5 000cr from wipro share buyback \n",
      "Predicted summary:  billionaire announces â¹5 000 crore buyback\n",
      "\n",
      "\n",
      "Review: letter union minister harsimrat kaur badal external affairs minister sushma swaraj revealed official communication pakistan opening kartarpur sahib corridor pilgrims comes despite punjab minister navjot singh sidhu claims pakistan offered open corridor guru nanak 550th birth anniversary next year \n",
      "Original summary: no official communication from pak on kartarpur sahib govt \n",
      "Predicted summary:  sushma swaraj to pak minister sushma swaraj\n",
      "\n",
      "\n",
      "Review: us president donald trump wednesday said military action north korea first choice amid tensions countries however us put reclusive nation actions added tensions two countries escalated north korea carried sixth powerful nuclear test date \n",
      "Original summary: military action against n korea not first choice trump \n",
      "Predicted summary:  trump is a n korea 1st time to n korea trump\n",
      "\n",
      "\n",
      "Review: employees' provident fund organisation tuesday announced members withdraw 75 funds month unemployment remaining 25 funds withdrawn completion two months unemployment earlier members allowed withdraw funds settle account one go two months unemployment \n",
      "Original summary: 75 of can now be withdrawn after 1 month of unemployment \n",
      "Predicted summary:  govt approves 25 million accounts in 25 months\n",
      "\n",
      "\n",
      "Review: three girls aged eight four two years died delhi due starvation prolonged malnutrition police said quoting initial autopsy report wednesday mother found mentally unstable father rickshaw puller could traced family shifted room last week rains damaged \n",
      "Original summary: 3 minor girls of same family die due to starvation in delhi \n",
      "Predicted summary:  3 girls die in delhi over 8 years after police\n",
      "\n",
      "\n",
      "Review: chargesheet filed murder case 20 year old aspiring model mansi dixit killed october mumbai revealed 19 year old aspiring photographer syed muzammil killed refused sex refused advances hit wooden stool head molested fell unconscious strangled \n",
      "Original summary: 19 year old boy killed 20 year old aspiring model for refusing sex \n",
      "Predicted summary:  man who killed 20 yr old model 20 yr old mumbai model death\n",
      "\n",
      "\n",
      "Review: madhya pradesh chief minister shivraj singh chouhan sunday announced â¹2 lakh ex gratia kin killed building collapse indore also announced compensation â¹50 000 injured incident many 10 people killed four storey building collapsed area saturday \n",
      "Original summary: indore building collapse victims to get â¹2 lakh ex gratia \n",
      "Predicted summary:  mp cm shivraj chouhan to â¹2 lakh in ex gratia for kin of victims\n",
      "\n",
      "\n",
      "Review: shiv sena chief uddhav thackeray wednesday snapped media asked explain cause mumbai getting water logged told stop rains think reporters sole monopoly mumbai serve people vote us back power said thackeray \n",
      "Original summary: stop the rains yourself uddhav thackeray tells media \n",
      "Predicted summary:  media should stop mumbai if it is not a day shiv sena\n",
      "\n",
      "\n",
      "Review: cricket legend sachin tendulkar wednesday slammed former pakistan captain shahid afridi tweet urging united nations intervene india occupied kashmir stop bloodshed got capable people manage run country outsider needs know tell us need said sachin \n",
      "Original summary: no outsider needs to tell us what to do sachin on afridi \n",
      "Predicted summary:  afridi slams afridi for afridi tweet on kashmir\n",
      "\n",
      "\n",
      "Review: kolkata knight riders' players wore black armbands ipl match rising pune supergiant wednesday tribute 25 crpf jawans martyred sukma monday kkr officials revealed captain gautam gambhir idea skipper also tweeting incident sometimes wonder deserve sacrifice tweeted gambhir \n",
      "Original summary: kkr wear black armbands to pay tribute to crpf martyrs \n",
      "Predicted summary:  kkr players miss ipl match black after pune police win\n",
      "\n",
      "\n",
      "Review: nasa maven spacecraft found mars electrically charged metal atoms ions including iron magnesium sodium ions high atmosphere electrical charge believed formed high speed entered mars' atmosphere finding help infer motion martian ionosphere alongside understanding planet lost air atmosphere \n",
      "Original summary: nasa spacecraft reveals mars has metal in its atmosphere \n",
      "Predicted summary:  nasa probe into mars to find sun\n",
      "\n",
      "\n",
      "Review: 37 year old indian woman reached summit mount everest second time one week setting women record double ascent world highest peak week anshu jamsenpa returned peak tuesday rested short started finishing 5th ascent peak sunday \n",
      "Original summary: indian woman climbs everest twice in a week sets record \n",
      "Predicted summary:  indian woman wins everest for 2nd time in a week\n",
      "\n",
      "\n",
      "Review: iran overtaken saudi arabia become second largest oil supplier indian state owned firms june quarter oil minister dharmendra pradhan said oil imports iran second iraq however pradhan answer question government asked oil companies reduce imports iran due threat us sanctions \n",
      "Original summary: iran overtakes saudi as india second largest oil supplier \n",
      "Predicted summary:  iran saudi becomes world most valuable oil firms\n",
      "\n",
      "\n",
      "Review: kiran indian origin woman repeatedly shouted going die flight jailed six months uk drunken behaviour drank eight cans beer boarding 4 6 glasses wine board also continuously kicked seat front causing woman seizure \n",
      "Original summary: drunk indian origin lady who shouted on flight jailed \n",
      "Predicted summary:  indian origin woman jailed for 6 years for 6 months\n",
      "\n",
      "\n",
      "Review: bitcoin rival cryptocurrency ripple surpassed ethereum world second largest cryptocurrency market capitalisation price ripple rose much 2 84 saturday climbing 90 24 hours market capitalisation ripple reached 110 billion cryptocurrency surged 47 200 year date \n",
      "Original summary: ripple becomes world second largest cryptocurrency \n",
      "Predicted summary:  bitcoin market value crosses bitcoin price for 2 hours\n",
      "\n",
      "\n",
      "Review: england registered 86 run victory second odi lord saturday end india three match winning streak level three match series 1 1 victory england 13th 18 odis year india lost two eight odis played 2018 series decider take place leeds tuesday \n",
      "Original summary: england end india 3 odi winning streak to level series 1 1 \n",
      "Predicted summary:  england lose their match in england odi series for 1 0\n",
      "\n",
      "\n",
      "Review: german startup lilium aviation thursday successfully completed first test flight world first electric vertical take landing vtol jet startup claims two seater jet remain airborne 300 km maximum cruising speed 300 kmph jet 36 electric engines mounted wings via 12 flaps \n",
      "Original summary: first electric takeoff jet finishes test flight \n",
      "Predicted summary:  startup makes 1st test flight that can fly 1st jet\n",
      "\n",
      "\n",
      "Review: us based study confirms iris eye mouse need brain help sense light direct pupils contract scientists severed brain eye neural connections several mice found behaviour controlled light sensitive pigment called similar traits seen rabbits cats dogs researchers said \n",
      "Original summary: mouse eyes react to light without signal from brain study \n",
      "Predicted summary:  brain like brain like brain cells study\n",
      "\n",
      "\n",
      "Review: south africa main opposition party democratic alliance initiated probe former leader helen tweets claiming brought benefits like independent judiciary da party leader said violated party federal constitution acting manner brought party disrepute \n",
      "Original summary: s african politician faces probe over pro tweets \n",
      "Predicted summary:  south africa appoints its own political party\n",
      "\n",
      "\n",
      "Review: chennai super kings defeated sunrisers hyderabad four runs go top indian premier league 2018 points table sunday srh second straight defeat three matches row csk registered second successive victory csk overtook kings xi punjab sit atop points table better run rate \n",
      "Original summary: csk hand srh their 2nd straight loss to go top of ipl table \n",
      "Predicted summary:  csk beat 4 wickets in ipl 2018 best ipl 2018\n",
      "\n",
      "\n",
      "Review: international golfer jyoti randhawa actress chitrangda singh ex husband mahesh arrested poaching charges uttar pradesh bahraich vehicle 22 rifle articles including binoculars skin wild boar recovered interrogation legal action taken team \n",
      "Original summary: ex husband golfer arrested for poaching \n",
      "Predicted summary:  ex husband wife arrested for assaulting husband\n",
      "\n",
      "\n",
      "Review: us mission turkey subsequently turkish mission us indefinitely suspended non immigrant visa services travel two countries security reasons comes us consulate employee arrested turkey last week suspicion links fethullah gulen cleric turkey blames failed coup 2016 \n",
      "Original summary: us turkey suspend visa services in tit for tat move \n",
      "Predicted summary:  turkey suspends us travel for visa travel for turkey\n",
      "\n",
      "\n",
      "Review: indian spinner harbhajan singh chat show csk rounder shane watson revealed rounder yuvraj singh played 14 16 19 cricket together got yuvraj continued play 19 cricket like afridi joked like 18 three years watson added \n",
      "Original summary: i got yuvraj to play u 19 harbhajan \n",
      "Predicted summary:  yuvraj singh yuvraj singh yuvraj singh harbhajan singh\n",
      "\n",
      "\n",
      "Review: centre planning implement 1 billion 1 billion 1 billion connectivity vision aims link one billion aadhaar numbers one billion bank accounts one billion mobiles deadline achieve target set yet initiative comes moody investors service upgraded india bond rating first time 14 years \n",
      "Original summary: govt to link 1 bn to 1 bn accounts 1 bn mobiles \n",
      "Predicted summary:  govt plans 1 billion 1 bn mobile mobile bn in 1 bn aadhaar\n",
      "\n",
      "\n",
      "Review: following ram rahim singh rape conviction dera sacha sauda mouthpiece named compared self proclaimed godman jesus christ religious icons prosecuted time kabir meera even jesus christ ill treated time people never stopped following gurus teachings front page editorial declared \n",
      "Original summary: dera sacha sauda paper compares ram rahim to jesus christ \n",
      "Predicted summary:  ram rahim rape accused ram rahim granted bail\n",
      "\n",
      "\n",
      "Review: us based early stage venture capital firm binary capital co founder justin caldbeck friday went indefinite leave confessing used position exchange sexual gain apologised behaviour said helped hostile environment female entrepreneurs deeply ashamed lack self awareness caldbeck added \n",
      "Original summary: venture confesses using his power for sexual gain \n",
      "Predicted summary:  co founder resigns after sexual harassment allegations\n",
      "\n",
      "\n",
      "Review: snapdeal asked bigger rival flipkart pay least 900 million stock rejecting latter latest buyout offer according livemint report flipkart yet respond demand company send new offer week earlier month snapdeal rejected flipkart 800 850 million buyout offer nn \n",
      "Original summary: snapdeal asks flipkart at least 900 mn for buyout deal \n",
      "Predicted summary:  snapdeal snapdeal to pay flipkart for flipkart deal\n",
      "\n",
      "\n",
      "Review: bjp mp meenakshi lekhi trolled twitter users wrote 'swachh bharat' incorrectly hindi reacting incident user tweeted sure meenakshi lekhi studied smriti irani yale university another user wrote bjp mp know write hindi people want impose hindi india \n",
      "Original summary: mp trolled for misspelling \n",
      "Predicted summary:  twitter reacts to mp tweet on twitter\n",
      "\n",
      "\n",
      "Review: actor akshay kumar said entering politics adding movies address public issues mean i'm paving way political career added i'm happy actor kind cinema gives joy akshay films based public issues include 'toilet ek prem katha' upcoming film 'pad man' \n",
      "Original summary: not doing film on public issues for political career akshay \n",
      "Predicted summary:  akshay kumar to be a political films akshay kumar\n",
      "\n",
      "\n",
      "Review: investigation launched human foot washed shores canada british columbia making 14th time incident occurred since 2007 authorities ruled foul play prior incidents saying individuals either killed died accidentally feet naturally came apart bodies \n",
      "Original summary: 14th human foot washes up on of canadian province \n",
      "Predicted summary:  launches canadian flag in canada\n",
      "\n",
      "\n",
      "Review: actress esha deol sister ahana deol organised surprise baby shower esha expecting first child husband bharat takhtani baby shower included lavender themed balloons floral arrangements lavender based chocolate belgium cake thanks bharat getting measurements esha gown managing keep surprise said ahana \n",
      "Original summary: esha deol sister organises surprise baby shower for esha \n",
      "Predicted summary:  esha deol sister wears baby girl for baby boy\n",
      "\n",
      "\n",
      "Review: nun filed police complaint kerala kottayam catholic bishop diocese north india alleging sexually abused 13 times nun claimed initially approached church authorities avail accused bishop also filed counter complaint claiming nun taking revenge transferring \n",
      "Original summary: nun alleges kerala bishop sexually abused her 13 times \n",
      "Predicted summary:  nun files complaint against kerala nun for sexually abusing india\n",
      "\n",
      "\n",
      "Review: former australian cricketer shane watson said performance fast bowling started really dive post phil hughes' death hit ball 2014 adding fast bowling strength watson said moment fear came game massively watson added innocence cricket went immediately hughes' death \n",
      "Original summary: started fearing fast bowling post phil death watson \n",
      "Predicted summary:  i am not a mistake warne on retirement rumours\n",
      "\n",
      "\n"
     ]
    }
   ],
   "source": [
    "for i in range(0,100):\n",
    "    print(\"Review:\",seq2text(x_tr[i]))\n",
    "    print(\"Original summary:\",seq2summary(y_tr[i]))\n",
    "    print(\"Predicted summary:\",decode_sequence(x_tr[i].reshape(1,max_text_len)))\n",
    "    print(\"\\n\")"
   ]
  },
  {
   "cell_type": "code",
   "execution_count": 0,
   "metadata": {
    "colab": {},
    "colab_type": "code",
    "id": "JYi-Fsy1juFt"
   },
   "outputs": [],
   "source": []
  }
 ],
 "metadata": {
  "accelerator": "GPU",
  "colab": {
   "collapsed_sections": [],
   "name": "text_summary.ipynb",
   "provenance": []
  },
  "kernelspec": {
   "display_name": "Python 3",
   "language": "python",
   "name": "python3"
  },
  "language_info": {
   "codemirror_mode": {
    "name": "ipython",
    "version": 3
   },
   "file_extension": ".py",
   "mimetype": "text/x-python",
   "name": "python",
   "nbconvert_exporter": "python",
   "pygments_lexer": "ipython3",
   "version": "3.7.4"
  }
 },
 "nbformat": 4,
 "nbformat_minor": 1
}
